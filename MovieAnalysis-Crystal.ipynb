{
 "cells": [
  {
   "cell_type": "code",
   "execution_count": 1,
   "metadata": {},
   "outputs": [],
   "source": [
    "import pandas as pd"
   ]
  },
  {
   "cell_type": "markdown",
   "metadata": {},
   "source": [
    "# What trends exist in movies released post-pandemic? \n",
    "\n",
    "In March 2020, regulations related to the pandemic shut down movie theaters and dramatically changed movie consumer habits. Looking at movie trends from 2020 and 2021 can gain insite into new consumer habits and set up a movie studio for success. \n",
    "\n",
    "## 1. Explore given data sets to determine relevant years. "
   ]
  },
  {
   "cell_type": "code",
   "execution_count": 2,
   "metadata": {},
   "outputs": [],
   "source": [
    "#read file\n",
    "bom = pd.read_csv('zippedData/bom.movie_gross.csv.gz')"
   ]
  },
  {
   "cell_type": "code",
   "execution_count": 3,
   "metadata": {},
   "outputs": [
    {
     "data": {
      "text/html": [
       "<div>\n",
       "<style scoped>\n",
       "    .dataframe tbody tr th:only-of-type {\n",
       "        vertical-align: middle;\n",
       "    }\n",
       "\n",
       "    .dataframe tbody tr th {\n",
       "        vertical-align: top;\n",
       "    }\n",
       "\n",
       "    .dataframe thead th {\n",
       "        text-align: right;\n",
       "    }\n",
       "</style>\n",
       "<table border=\"1\" class=\"dataframe\">\n",
       "  <thead>\n",
       "    <tr style=\"text-align: right;\">\n",
       "      <th></th>\n",
       "      <th>title</th>\n",
       "      <th>studio</th>\n",
       "      <th>domestic_gross</th>\n",
       "      <th>foreign_gross</th>\n",
       "      <th>year</th>\n",
       "    </tr>\n",
       "  </thead>\n",
       "  <tbody>\n",
       "    <tr>\n",
       "      <th>0</th>\n",
       "      <td>Toy Story 3</td>\n",
       "      <td>BV</td>\n",
       "      <td>415000000.0</td>\n",
       "      <td>652000000</td>\n",
       "      <td>2010</td>\n",
       "    </tr>\n",
       "    <tr>\n",
       "      <th>1</th>\n",
       "      <td>Alice in Wonderland (2010)</td>\n",
       "      <td>BV</td>\n",
       "      <td>334200000.0</td>\n",
       "      <td>691300000</td>\n",
       "      <td>2010</td>\n",
       "    </tr>\n",
       "    <tr>\n",
       "      <th>2</th>\n",
       "      <td>Harry Potter and the Deathly Hallows Part 1</td>\n",
       "      <td>WB</td>\n",
       "      <td>296000000.0</td>\n",
       "      <td>664300000</td>\n",
       "      <td>2010</td>\n",
       "    </tr>\n",
       "    <tr>\n",
       "      <th>3</th>\n",
       "      <td>Inception</td>\n",
       "      <td>WB</td>\n",
       "      <td>292600000.0</td>\n",
       "      <td>535700000</td>\n",
       "      <td>2010</td>\n",
       "    </tr>\n",
       "    <tr>\n",
       "      <th>4</th>\n",
       "      <td>Shrek Forever After</td>\n",
       "      <td>P/DW</td>\n",
       "      <td>238700000.0</td>\n",
       "      <td>513900000</td>\n",
       "      <td>2010</td>\n",
       "    </tr>\n",
       "  </tbody>\n",
       "</table>\n",
       "</div>"
      ],
      "text/plain": [
       "                                         title studio  domestic_gross  \\\n",
       "0                                  Toy Story 3     BV     415000000.0   \n",
       "1                   Alice in Wonderland (2010)     BV     334200000.0   \n",
       "2  Harry Potter and the Deathly Hallows Part 1     WB     296000000.0   \n",
       "3                                    Inception     WB     292600000.0   \n",
       "4                          Shrek Forever After   P/DW     238700000.0   \n",
       "\n",
       "  foreign_gross  year  \n",
       "0     652000000  2010  \n",
       "1     691300000  2010  \n",
       "2     664300000  2010  \n",
       "3     535700000  2010  \n",
       "4     513900000  2010  "
      ]
     },
     "execution_count": 3,
     "metadata": {},
     "output_type": "execute_result"
    }
   ],
   "source": [
    "#epxlore firts few rows \n",
    "bom.head()"
   ]
  },
  {
   "cell_type": "code",
   "execution_count": 4,
   "metadata": {},
   "outputs": [
    {
     "data": {
      "text/plain": [
       "2010    328\n",
       "2011    399\n",
       "2012    400\n",
       "2013    350\n",
       "2014    395\n",
       "2015    450\n",
       "2016    436\n",
       "2017    321\n",
       "2018    308\n",
       "Name: year, dtype: int64"
      ]
     },
     "execution_count": 4,
     "metadata": {},
     "output_type": "execute_result"
    }
   ],
   "source": [
    "#years is a column name\n",
    "#determine the range of years in data set and their counts\n",
    "bom['year'].value_counts().sort_index()"
   ]
  },
  {
   "cell_type": "markdown",
   "metadata": {},
   "source": [
    "Data provided for this project is from 2010-2018. This data will not gain insite to post-pandemic trends. I will download and analyaze newer data. \n",
    "\n",
    "## 2. Download new data sets. \n",
    "\n",
    "Downloaded data from https://www.imdb.com/interfaces/\n",
    "(title.akas.tsv.gz, title.basics.tsv.gz, title.ratings.tsv.gz) in order to contain more recent movies."
   ]
  },
  {
   "cell_type": "code",
   "execution_count": 5,
   "metadata": {},
   "outputs": [],
   "source": [
    "#read new data\n",
    "newdata= pd.read_csv('title.basics.tsv.gz', delimiter= '\\t', low_memory=False)"
   ]
  },
  {
   "cell_type": "code",
   "execution_count": 6,
   "metadata": {},
   "outputs": [
    {
     "data": {
      "text/plain": [
       "Index(['tconst', 'titleType', 'primaryTitle', 'originalTitle', 'isAdult',\n",
       "       'startYear', 'endYear', 'runtimeMinutes', 'genres'],\n",
       "      dtype='object')"
      ]
     },
     "execution_count": 6,
     "metadata": {},
     "output_type": "execute_result"
    }
   ],
   "source": [
    "#explore columns\n",
    "newdata.columns"
   ]
  },
  {
   "cell_type": "code",
   "execution_count": 7,
   "metadata": {},
   "outputs": [
    {
     "data": {
      "text/plain": [
       "(8263105, 9)"
      ]
     },
     "execution_count": 7,
     "metadata": {},
     "output_type": "execute_result"
    }
   ],
   "source": [
    "#explore size\n",
    "newdata.shape"
   ]
  },
  {
   "cell_type": "code",
   "execution_count": 8,
   "metadata": {},
   "outputs": [
    {
     "data": {
      "text/plain": [
       "\\N      975895\n",
       "2018    403796\n",
       "2017    400122\n",
       "2019    386265\n",
       "2016    378929\n",
       "         ...  \n",
       "1877         1\n",
       "1882         1\n",
       "1883         1\n",
       "1874         1\n",
       "1885         1\n",
       "Name: startYear, Length: 150, dtype: int64"
      ]
     },
     "execution_count": 8,
     "metadata": {},
     "output_type": "execute_result"
    }
   ],
   "source": [
    "newdata['startYear'].value_counts()\n",
    "# explore range of years\n",
    "# many null values in start year"
   ]
  },
  {
   "cell_type": "code",
   "execution_count": 9,
   "metadata": {},
   "outputs": [
    {
     "data": {
      "text/plain": [
       "\\N      8181033\n",
       "2017       5379\n",
       "2018       5318\n",
       "2019       4958\n",
       "2020       4397\n",
       "         ...   \n",
       "1935          1\n",
       "2027          1\n",
       "2025          1\n",
       "1944          1\n",
       "2028          1\n",
       "Name: endYear, Length: 96, dtype: int64"
      ]
     },
     "execution_count": 9,
     "metadata": {},
     "output_type": "execute_result"
    }
   ],
   "source": [
    "newdata['endYear'].value_counts()\n",
    "# explore range of years\n",
    "# many null values in end years"
   ]
  },
  {
   "cell_type": "code",
   "execution_count": 10,
   "metadata": {},
   "outputs": [
    {
     "data": {
      "text/html": [
       "<div>\n",
       "<style scoped>\n",
       "    .dataframe tbody tr th:only-of-type {\n",
       "        vertical-align: middle;\n",
       "    }\n",
       "\n",
       "    .dataframe tbody tr th {\n",
       "        vertical-align: top;\n",
       "    }\n",
       "\n",
       "    .dataframe thead th {\n",
       "        text-align: right;\n",
       "    }\n",
       "</style>\n",
       "<table border=\"1\" class=\"dataframe\">\n",
       "  <thead>\n",
       "    <tr style=\"text-align: right;\">\n",
       "      <th></th>\n",
       "      <th>tconst</th>\n",
       "      <th>titleType</th>\n",
       "      <th>primaryTitle</th>\n",
       "      <th>originalTitle</th>\n",
       "      <th>isAdult</th>\n",
       "      <th>startYear</th>\n",
       "      <th>endYear</th>\n",
       "      <th>runtimeMinutes</th>\n",
       "      <th>genres</th>\n",
       "    </tr>\n",
       "  </thead>\n",
       "  <tbody>\n",
       "    <tr>\n",
       "      <th>8263100</th>\n",
       "      <td>tt9916848</td>\n",
       "      <td>tvEpisode</td>\n",
       "      <td>Episode #3.17</td>\n",
       "      <td>Episode #3.17</td>\n",
       "      <td>0</td>\n",
       "      <td>2010</td>\n",
       "      <td>\\N</td>\n",
       "      <td>\\N</td>\n",
       "      <td>Action,Drama,Family</td>\n",
       "    </tr>\n",
       "    <tr>\n",
       "      <th>8263101</th>\n",
       "      <td>tt9916850</td>\n",
       "      <td>tvEpisode</td>\n",
       "      <td>Episode #3.19</td>\n",
       "      <td>Episode #3.19</td>\n",
       "      <td>0</td>\n",
       "      <td>2010</td>\n",
       "      <td>\\N</td>\n",
       "      <td>\\N</td>\n",
       "      <td>Action,Drama,Family</td>\n",
       "    </tr>\n",
       "    <tr>\n",
       "      <th>8263102</th>\n",
       "      <td>tt9916852</td>\n",
       "      <td>tvEpisode</td>\n",
       "      <td>Episode #3.20</td>\n",
       "      <td>Episode #3.20</td>\n",
       "      <td>0</td>\n",
       "      <td>2010</td>\n",
       "      <td>\\N</td>\n",
       "      <td>\\N</td>\n",
       "      <td>Action,Drama,Family</td>\n",
       "    </tr>\n",
       "    <tr>\n",
       "      <th>8263103</th>\n",
       "      <td>tt9916856</td>\n",
       "      <td>short</td>\n",
       "      <td>The Wind</td>\n",
       "      <td>The Wind</td>\n",
       "      <td>0</td>\n",
       "      <td>2015</td>\n",
       "      <td>\\N</td>\n",
       "      <td>27</td>\n",
       "      <td>Short</td>\n",
       "    </tr>\n",
       "    <tr>\n",
       "      <th>8263104</th>\n",
       "      <td>tt9916880</td>\n",
       "      <td>tvEpisode</td>\n",
       "      <td>Horrid Henry Knows It All</td>\n",
       "      <td>Horrid Henry Knows It All</td>\n",
       "      <td>0</td>\n",
       "      <td>2014</td>\n",
       "      <td>\\N</td>\n",
       "      <td>10</td>\n",
       "      <td>Animation,Comedy,Family</td>\n",
       "    </tr>\n",
       "  </tbody>\n",
       "</table>\n",
       "</div>"
      ],
      "text/plain": [
       "            tconst  titleType               primaryTitle  \\\n",
       "8263100  tt9916848  tvEpisode              Episode #3.17   \n",
       "8263101  tt9916850  tvEpisode              Episode #3.19   \n",
       "8263102  tt9916852  tvEpisode              Episode #3.20   \n",
       "8263103  tt9916856      short                   The Wind   \n",
       "8263104  tt9916880  tvEpisode  Horrid Henry Knows It All   \n",
       "\n",
       "                     originalTitle isAdult startYear endYear runtimeMinutes  \\\n",
       "8263100              Episode #3.17       0      2010      \\N             \\N   \n",
       "8263101              Episode #3.19       0      2010      \\N             \\N   \n",
       "8263102              Episode #3.20       0      2010      \\N             \\N   \n",
       "8263103                   The Wind       0      2015      \\N             27   \n",
       "8263104  Horrid Henry Knows It All       0      2014      \\N             10   \n",
       "\n",
       "                          genres  \n",
       "8263100      Action,Drama,Family  \n",
       "8263101      Action,Drama,Family  \n",
       "8263102      Action,Drama,Family  \n",
       "8263103                    Short  \n",
       "8263104  Animation,Comedy,Family  "
      ]
     },
     "execution_count": 10,
     "metadata": {},
     "output_type": "execute_result"
    }
   ],
   "source": [
    "newdata.tail()"
   ]
  },
  {
   "cell_type": "code",
   "execution_count": 11,
   "metadata": {},
   "outputs": [
    {
     "name": "stdout",
     "output_type": "stream",
     "text": [
      "<class 'pandas.core.frame.DataFrame'>\n",
      "RangeIndex: 8263105 entries, 0 to 8263104\n",
      "Data columns (total 9 columns):\n",
      " #   Column          Dtype \n",
      "---  ------          ----- \n",
      " 0   tconst          object\n",
      " 1   titleType       object\n",
      " 2   primaryTitle    object\n",
      " 3   originalTitle   object\n",
      " 4   isAdult         object\n",
      " 5   startYear       object\n",
      " 6   endYear         object\n",
      " 7   runtimeMinutes  object\n",
      " 8   genres          object\n",
      "dtypes: object(9)\n",
      "memory usage: 567.4+ MB\n"
     ]
    }
   ],
   "source": [
    "newdata.info()\n",
    "# explore type(s) of data within data set"
   ]
  },
  {
   "cell_type": "code",
   "execution_count": 12,
   "metadata": {},
   "outputs": [
    {
     "data": {
      "text/plain": [
       "tvEpisode       6062444\n",
       "short            830683\n",
       "movie            587753\n",
       "video            321244\n",
       "tvSeries         214708\n",
       "tvMovie          132930\n",
       "tvMiniSeries      39722\n",
       "tvSpecial         34136\n",
       "videoGame         29208\n",
       "tvShort           10274\n",
       "radioEpisode          1\n",
       "radioSeries           1\n",
       "tvPilot               1\n",
       "Name: titleType, dtype: int64"
      ]
     },
     "execution_count": 12,
     "metadata": {},
     "output_type": "execute_result"
    }
   ],
   "source": [
    "newdata['titleType'].value_counts()\n",
    "# explore types of media contained in data set"
   ]
  },
  {
   "cell_type": "markdown",
   "metadata": {},
   "source": [
    "For the purposes of this EDA I'm interested in only the movies from March 2020 - present. Filtering the data to explore only **movies** from **2020 - 20201**"
   ]
  },
  {
   "cell_type": "code",
   "execution_count": 13,
   "metadata": {},
   "outputs": [],
   "source": [
    "# filter new data to explore only movies. movie dataframe (md)\n",
    "md = newdata[newdata['titleType'] == 'movie']"
   ]
  },
  {
   "cell_type": "code",
   "execution_count": 14,
   "metadata": {},
   "outputs": [
    {
     "data": {
      "text/plain": [
       "(587753, 9)"
      ]
     },
     "execution_count": 14,
     "metadata": {},
     "output_type": "execute_result"
    }
   ],
   "source": [
    "md.shape"
   ]
  },
  {
   "cell_type": "code",
   "execution_count": 15,
   "metadata": {},
   "outputs": [
    {
     "data": {
      "text/html": [
       "<div>\n",
       "<style scoped>\n",
       "    .dataframe tbody tr th:only-of-type {\n",
       "        vertical-align: middle;\n",
       "    }\n",
       "\n",
       "    .dataframe tbody tr th {\n",
       "        vertical-align: top;\n",
       "    }\n",
       "\n",
       "    .dataframe thead th {\n",
       "        text-align: right;\n",
       "    }\n",
       "</style>\n",
       "<table border=\"1\" class=\"dataframe\">\n",
       "  <thead>\n",
       "    <tr style=\"text-align: right;\">\n",
       "      <th></th>\n",
       "      <th>tconst</th>\n",
       "      <th>titleType</th>\n",
       "      <th>primaryTitle</th>\n",
       "      <th>originalTitle</th>\n",
       "      <th>isAdult</th>\n",
       "      <th>startYear</th>\n",
       "      <th>endYear</th>\n",
       "      <th>runtimeMinutes</th>\n",
       "      <th>genres</th>\n",
       "    </tr>\n",
       "  </thead>\n",
       "  <tbody>\n",
       "    <tr>\n",
       "      <th>498</th>\n",
       "      <td>tt0000502</td>\n",
       "      <td>movie</td>\n",
       "      <td>Bohemios</td>\n",
       "      <td>Bohemios</td>\n",
       "      <td>0</td>\n",
       "      <td>1905</td>\n",
       "      <td>\\N</td>\n",
       "      <td>100</td>\n",
       "      <td>\\N</td>\n",
       "    </tr>\n",
       "    <tr>\n",
       "      <th>570</th>\n",
       "      <td>tt0000574</td>\n",
       "      <td>movie</td>\n",
       "      <td>The Story of the Kelly Gang</td>\n",
       "      <td>The Story of the Kelly Gang</td>\n",
       "      <td>0</td>\n",
       "      <td>1906</td>\n",
       "      <td>\\N</td>\n",
       "      <td>70</td>\n",
       "      <td>Action,Adventure,Biography</td>\n",
       "    </tr>\n",
       "  </tbody>\n",
       "</table>\n",
       "</div>"
      ],
      "text/plain": [
       "        tconst titleType                 primaryTitle  \\\n",
       "498  tt0000502     movie                     Bohemios   \n",
       "570  tt0000574     movie  The Story of the Kelly Gang   \n",
       "\n",
       "                   originalTitle isAdult startYear endYear runtimeMinutes  \\\n",
       "498                     Bohemios       0      1905      \\N            100   \n",
       "570  The Story of the Kelly Gang       0      1906      \\N             70   \n",
       "\n",
       "                         genres  \n",
       "498                          \\N  \n",
       "570  Action,Adventure,Biography  "
      ]
     },
     "execution_count": 15,
     "metadata": {},
     "output_type": "execute_result"
    }
   ],
   "source": [
    "md.head(2)"
   ]
  },
  {
   "cell_type": "code",
   "execution_count": 16,
   "metadata": {},
   "outputs": [
    {
     "data": {
      "text/html": [
       "<div>\n",
       "<style scoped>\n",
       "    .dataframe tbody tr th:only-of-type {\n",
       "        vertical-align: middle;\n",
       "    }\n",
       "\n",
       "    .dataframe tbody tr th {\n",
       "        vertical-align: top;\n",
       "    }\n",
       "\n",
       "    .dataframe thead th {\n",
       "        text-align: right;\n",
       "    }\n",
       "</style>\n",
       "<table border=\"1\" class=\"dataframe\">\n",
       "  <thead>\n",
       "    <tr style=\"text-align: right;\">\n",
       "      <th></th>\n",
       "      <th>tconst</th>\n",
       "      <th>titleType</th>\n",
       "      <th>primaryTitle</th>\n",
       "      <th>originalTitle</th>\n",
       "      <th>isAdult</th>\n",
       "      <th>startYear</th>\n",
       "      <th>endYear</th>\n",
       "      <th>runtimeMinutes</th>\n",
       "      <th>genres</th>\n",
       "    </tr>\n",
       "  </thead>\n",
       "  <tbody>\n",
       "    <tr>\n",
       "      <th>8263044</th>\n",
       "      <td>tt9916730</td>\n",
       "      <td>movie</td>\n",
       "      <td>6 Gunn</td>\n",
       "      <td>6 Gunn</td>\n",
       "      <td>0</td>\n",
       "      <td>2017</td>\n",
       "      <td>\\N</td>\n",
       "      <td>116</td>\n",
       "      <td>\\N</td>\n",
       "    </tr>\n",
       "    <tr>\n",
       "      <th>8263055</th>\n",
       "      <td>tt9916754</td>\n",
       "      <td>movie</td>\n",
       "      <td>Chico Albuquerque - Revelações</td>\n",
       "      <td>Chico Albuquerque - Revelações</td>\n",
       "      <td>0</td>\n",
       "      <td>2013</td>\n",
       "      <td>\\N</td>\n",
       "      <td>49</td>\n",
       "      <td>Documentary</td>\n",
       "    </tr>\n",
       "  </tbody>\n",
       "</table>\n",
       "</div>"
      ],
      "text/plain": [
       "            tconst titleType                    primaryTitle  \\\n",
       "8263044  tt9916730     movie                          6 Gunn   \n",
       "8263055  tt9916754     movie  Chico Albuquerque - Revelações   \n",
       "\n",
       "                          originalTitle isAdult startYear endYear  \\\n",
       "8263044                          6 Gunn       0      2017      \\N   \n",
       "8263055  Chico Albuquerque - Revelações       0      2013      \\N   \n",
       "\n",
       "        runtimeMinutes       genres  \n",
       "8263044            116           \\N  \n",
       "8263055             49  Documentary  "
      ]
     },
     "execution_count": 16,
     "metadata": {},
     "output_type": "execute_result"
    }
   ],
   "source": [
    "md.tail(2)"
   ]
  },
  {
   "cell_type": "markdown",
   "metadata": {},
   "source": [
    "Based on these DataFrames, 'startYear' is the year used for movies not 'endYear'"
   ]
  },
  {
   "cell_type": "code",
   "execution_count": 17,
   "metadata": {},
   "outputs": [
    {
     "data": {
      "text/plain": [
       "\\N    587753\n",
       "Name: endYear, dtype: int64"
      ]
     },
     "execution_count": 17,
     "metadata": {},
     "output_type": "execute_result"
    }
   ],
   "source": [
    "#confirm that 'endYear' is not a relevant field for movies\n",
    "md['endYear'].value_counts()"
   ]
  },
  {
   "cell_type": "code",
   "execution_count": 18,
   "metadata": {},
   "outputs": [],
   "source": [
    "#filter for only movies in 2020 and 2021 to create a \n",
    "#recent movies (rm) DataFrame\n",
    "\n",
    "md = md.loc[(md['startYear']=='2020') | (md['startYear']=='2021')]"
   ]
  },
  {
   "cell_type": "markdown",
   "metadata": {},
   "source": [
    "The client, is not interested in creating adult content. Filtering for only non-adult content"
   ]
  },
  {
   "cell_type": "code",
   "execution_count": 19,
   "metadata": {},
   "outputs": [
    {
     "data": {
      "text/plain": [
       "(28634, 9)"
      ]
     },
     "execution_count": 19,
     "metadata": {},
     "output_type": "execute_result"
    }
   ],
   "source": [
    "md.shape"
   ]
  },
  {
   "cell_type": "code",
   "execution_count": 20,
   "metadata": {},
   "outputs": [],
   "source": [
    "# remove adult movies by keeping all 0s in the list\n",
    "md = md[md['isAdult'] != '1']"
   ]
  },
  {
   "cell_type": "code",
   "execution_count": 21,
   "metadata": {},
   "outputs": [
    {
     "data": {
      "text/plain": [
       "(28412, 9)"
      ]
     },
     "execution_count": 21,
     "metadata": {},
     "output_type": "execute_result"
    }
   ],
   "source": [
    "#confirm adult movies were removed. There are ~200 fewer results\n",
    "md.shape"
   ]
  },
  {
   "cell_type": "code",
   "execution_count": 22,
   "metadata": {},
   "outputs": [
    {
     "data": {
      "text/plain": [
       "0    28412\n",
       "Name: isAdult, dtype: int64"
      ]
     },
     "execution_count": 22,
     "metadata": {},
     "output_type": "execute_result"
    }
   ],
   "source": [
    "# confirm only 'non-adult' values remain\n",
    "md['isAdult'].value_counts()"
   ]
  },
  {
   "cell_type": "markdown",
   "metadata": {},
   "source": [
    "The DataFrame now contains movies from the relevant years. To gleam a better picture of what consumers want post-pandemic, merge with other data sets. \n",
    "\n",
    "\n",
    "## 3. Merge to create a comprehensive DataFrame of post-pandemic movies"
   ]
  },
  {
   "cell_type": "code",
   "execution_count": 23,
   "metadata": {},
   "outputs": [],
   "source": [
    "# read 'ratings' file which contains additional data points\n",
    "ratings = pd.read_csv('title.ratings.tsv.gz', delimiter='\\t', low_memory=False)"
   ]
  },
  {
   "cell_type": "code",
   "execution_count": 24,
   "metadata": {},
   "outputs": [],
   "source": [
    "# merge md and ratings\n",
    "movie_merge = md.set_index('tconst').join(ratings.set_index('tconst'), how='left')"
   ]
  },
  {
   "cell_type": "code",
   "execution_count": 25,
   "metadata": {},
   "outputs": [],
   "source": [
    "# removing irrelevant columns \n",
    "movie_merge = movie_merge.drop(['isAdult', 'endYear', 'titleType'], axis = 1)"
   ]
  },
  {
   "cell_type": "code",
   "execution_count": 26,
   "metadata": {},
   "outputs": [
    {
     "data": {
      "text/plain": [
       "(28412, 7)"
      ]
     },
     "execution_count": 26,
     "metadata": {},
     "output_type": "execute_result"
    }
   ],
   "source": [
    "movie_merge.shape"
   ]
  },
  {
   "cell_type": "markdown",
   "metadata": {},
   "source": [
    "The movie_merge list contains international and domestic movies. "
   ]
  },
  {
   "cell_type": "code",
   "execution_count": 27,
   "metadata": {},
   "outputs": [],
   "source": [
    "# read title.akas.tsv file to bring in additional data points, most relevant is 'region'\n",
    "region = pd.read_csv('title.akas.tsv.gz', delimiter='\\t', low_memory=False)"
   ]
  },
  {
   "cell_type": "code",
   "execution_count": 28,
   "metadata": {},
   "outputs": [
    {
     "data": {
      "text/plain": [
       "(29093971, 8)"
      ]
     },
     "execution_count": 28,
     "metadata": {},
     "output_type": "execute_result"
    }
   ],
   "source": [
    "region.shape"
   ]
  },
  {
   "cell_type": "code",
   "execution_count": 29,
   "metadata": {},
   "outputs": [
    {
     "data": {
      "text/plain": [
       "Index(['titleId', 'ordering', 'title', 'region', 'language', 'types',\n",
       "       'attributes', 'isOriginalTitle'],\n",
       "      dtype='object')"
      ]
     },
     "execution_count": 29,
     "metadata": {},
     "output_type": "execute_result"
    }
   ],
   "source": [
    "region.columns"
   ]
  },
  {
   "cell_type": "code",
   "execution_count": 30,
   "metadata": {},
   "outputs": [],
   "source": [
    "#filter region for only US markets\n",
    "region = region[region['region']=='US']"
   ]
  },
  {
   "cell_type": "code",
   "execution_count": 31,
   "metadata": {},
   "outputs": [
    {
     "data": {
      "text/plain": [
       "(1291346, 8)"
      ]
     },
     "execution_count": 31,
     "metadata": {},
     "output_type": "execute_result"
    }
   ],
   "source": [
    "region.shape"
   ]
  },
  {
   "cell_type": "code",
   "execution_count": 32,
   "metadata": {},
   "outputs": [],
   "source": [
    "#merge filtered region list with inner join so our final DataFrame contains movies from 2020 and 2021 in the US\n",
    "movie_merge = movie_merge.join(region.set_index('titleId'), how='inner')"
   ]
  },
  {
   "cell_type": "code",
   "execution_count": 33,
   "metadata": {},
   "outputs": [
    {
     "data": {
      "text/plain": [
       "(16400, 14)"
      ]
     },
     "execution_count": 33,
     "metadata": {},
     "output_type": "execute_result"
    }
   ],
   "source": [
    "movie_merge.shape"
   ]
  },
  {
   "cell_type": "markdown",
   "metadata": {},
   "source": [
    "## 4. Clean the merged data"
   ]
  },
  {
   "cell_type": "code",
   "execution_count": 34,
   "metadata": {},
   "outputs": [
    {
     "data": {
      "text/html": [
       "<div>\n",
       "<style scoped>\n",
       "    .dataframe tbody tr th:only-of-type {\n",
       "        vertical-align: middle;\n",
       "    }\n",
       "\n",
       "    .dataframe tbody tr th {\n",
       "        vertical-align: top;\n",
       "    }\n",
       "\n",
       "    .dataframe thead th {\n",
       "        text-align: right;\n",
       "    }\n",
       "</style>\n",
       "<table border=\"1\" class=\"dataframe\">\n",
       "  <thead>\n",
       "    <tr style=\"text-align: right;\">\n",
       "      <th></th>\n",
       "      <th>primaryTitle</th>\n",
       "      <th>originalTitle</th>\n",
       "      <th>startYear</th>\n",
       "      <th>runtimeMinutes</th>\n",
       "      <th>genres</th>\n",
       "      <th>averageRating</th>\n",
       "      <th>numVotes</th>\n",
       "      <th>ordering</th>\n",
       "      <th>title</th>\n",
       "      <th>region</th>\n",
       "      <th>language</th>\n",
       "      <th>types</th>\n",
       "      <th>attributes</th>\n",
       "      <th>isOriginalTitle</th>\n",
       "    </tr>\n",
       "  </thead>\n",
       "  <tbody>\n",
       "    <tr>\n",
       "      <th>tt0062336</th>\n",
       "      <td>The Tango of the Widower and Its Distorting Mi...</td>\n",
       "      <td>El Tango del Viudo y Su Espejo Deformante</td>\n",
       "      <td>2020</td>\n",
       "      <td>70</td>\n",
       "      <td>Drama</td>\n",
       "      <td>6.3</td>\n",
       "      <td>150.0</td>\n",
       "      <td>4</td>\n",
       "      <td>The Tango of the Widower and Its Distorting Mi...</td>\n",
       "      <td>US</td>\n",
       "      <td>\\N</td>\n",
       "      <td>imdbDisplay</td>\n",
       "      <td>\\N</td>\n",
       "      <td>0</td>\n",
       "    </tr>\n",
       "    <tr>\n",
       "      <th>tt0065392</th>\n",
       "      <td>Bucharest Memories</td>\n",
       "      <td>Amintiri bucurestene</td>\n",
       "      <td>2020</td>\n",
       "      <td>\\N</td>\n",
       "      <td>Documentary</td>\n",
       "      <td>7.3</td>\n",
       "      <td>11.0</td>\n",
       "      <td>3</td>\n",
       "      <td>Bucharest Memories</td>\n",
       "      <td>US</td>\n",
       "      <td>\\N</td>\n",
       "      <td>imdbDisplay</td>\n",
       "      <td>\\N</td>\n",
       "      <td>0</td>\n",
       "    </tr>\n",
       "    <tr>\n",
       "      <th>tt0093119</th>\n",
       "      <td>Grizzly II: Revenge</td>\n",
       "      <td>Grizzly II: The Predator</td>\n",
       "      <td>2020</td>\n",
       "      <td>74</td>\n",
       "      <td>Horror,Music,Thriller</td>\n",
       "      <td>3.3</td>\n",
       "      <td>770.0</td>\n",
       "      <td>13</td>\n",
       "      <td>Grizzly II: Revenge</td>\n",
       "      <td>US</td>\n",
       "      <td>\\N</td>\n",
       "      <td>imdbDisplay</td>\n",
       "      <td>\\N</td>\n",
       "      <td>0</td>\n",
       "    </tr>\n",
       "    <tr>\n",
       "      <th>tt0093119</th>\n",
       "      <td>Grizzly II: Revenge</td>\n",
       "      <td>Grizzly II: The Predator</td>\n",
       "      <td>2020</td>\n",
       "      <td>74</td>\n",
       "      <td>Horror,Music,Thriller</td>\n",
       "      <td>3.3</td>\n",
       "      <td>770.0</td>\n",
       "      <td>3</td>\n",
       "      <td>Predator: The Concert</td>\n",
       "      <td>US</td>\n",
       "      <td>\\N</td>\n",
       "      <td>\\N</td>\n",
       "      <td>bootleg title</td>\n",
       "      <td>0</td>\n",
       "    </tr>\n",
       "    <tr>\n",
       "      <th>tt0093119</th>\n",
       "      <td>Grizzly II: Revenge</td>\n",
       "      <td>Grizzly II: The Predator</td>\n",
       "      <td>2020</td>\n",
       "      <td>74</td>\n",
       "      <td>Horror,Music,Thriller</td>\n",
       "      <td>3.3</td>\n",
       "      <td>770.0</td>\n",
       "      <td>5</td>\n",
       "      <td>Grizzly II: The Predator</td>\n",
       "      <td>US</td>\n",
       "      <td>\\N</td>\n",
       "      <td>alternative</td>\n",
       "      <td>\\N</td>\n",
       "      <td>0</td>\n",
       "    </tr>\n",
       "  </tbody>\n",
       "</table>\n",
       "</div>"
      ],
      "text/plain": [
       "                                                primaryTitle  \\\n",
       "tt0062336  The Tango of the Widower and Its Distorting Mi...   \n",
       "tt0065392                                 Bucharest Memories   \n",
       "tt0093119                                Grizzly II: Revenge   \n",
       "tt0093119                                Grizzly II: Revenge   \n",
       "tt0093119                                Grizzly II: Revenge   \n",
       "\n",
       "                                       originalTitle startYear runtimeMinutes  \\\n",
       "tt0062336  El Tango del Viudo y Su Espejo Deformante      2020             70   \n",
       "tt0065392                       Amintiri bucurestene      2020             \\N   \n",
       "tt0093119                   Grizzly II: The Predator      2020             74   \n",
       "tt0093119                   Grizzly II: The Predator      2020             74   \n",
       "tt0093119                   Grizzly II: The Predator      2020             74   \n",
       "\n",
       "                          genres  averageRating  numVotes  ordering  \\\n",
       "tt0062336                  Drama            6.3     150.0         4   \n",
       "tt0065392            Documentary            7.3      11.0         3   \n",
       "tt0093119  Horror,Music,Thriller            3.3     770.0        13   \n",
       "tt0093119  Horror,Music,Thriller            3.3     770.0         3   \n",
       "tt0093119  Horror,Music,Thriller            3.3     770.0         5   \n",
       "\n",
       "                                                       title region language  \\\n",
       "tt0062336  The Tango of the Widower and Its Distorting Mi...     US       \\N   \n",
       "tt0065392                                 Bucharest Memories     US       \\N   \n",
       "tt0093119                                Grizzly II: Revenge     US       \\N   \n",
       "tt0093119                              Predator: The Concert     US       \\N   \n",
       "tt0093119                           Grizzly II: The Predator     US       \\N   \n",
       "\n",
       "                 types     attributes isOriginalTitle  \n",
       "tt0062336  imdbDisplay             \\N               0  \n",
       "tt0065392  imdbDisplay             \\N               0  \n",
       "tt0093119  imdbDisplay             \\N               0  \n",
       "tt0093119           \\N  bootleg title               0  \n",
       "tt0093119  alternative             \\N               0  "
      ]
     },
     "execution_count": 34,
     "metadata": {},
     "output_type": "execute_result"
    }
   ],
   "source": [
    "movie_merge.head()"
   ]
  },
  {
   "cell_type": "code",
   "execution_count": 35,
   "metadata": {},
   "outputs": [
    {
     "data": {
      "text/html": [
       "<div>\n",
       "<style scoped>\n",
       "    .dataframe tbody tr th:only-of-type {\n",
       "        vertical-align: middle;\n",
       "    }\n",
       "\n",
       "    .dataframe tbody tr th {\n",
       "        vertical-align: top;\n",
       "    }\n",
       "\n",
       "    .dataframe thead th {\n",
       "        text-align: right;\n",
       "    }\n",
       "</style>\n",
       "<table border=\"1\" class=\"dataframe\">\n",
       "  <thead>\n",
       "    <tr style=\"text-align: right;\">\n",
       "      <th></th>\n",
       "      <th>primaryTitle</th>\n",
       "      <th>originalTitle</th>\n",
       "      <th>startYear</th>\n",
       "      <th>runtimeMinutes</th>\n",
       "      <th>genres</th>\n",
       "      <th>averageRating</th>\n",
       "      <th>numVotes</th>\n",
       "      <th>ordering</th>\n",
       "      <th>title</th>\n",
       "      <th>region</th>\n",
       "      <th>language</th>\n",
       "      <th>types</th>\n",
       "      <th>attributes</th>\n",
       "      <th>isOriginalTitle</th>\n",
       "    </tr>\n",
       "  </thead>\n",
       "  <tbody>\n",
       "    <tr>\n",
       "      <th>tt0093119</th>\n",
       "      <td>Grizzly II: Revenge</td>\n",
       "      <td>Grizzly II: The Predator</td>\n",
       "      <td>2020</td>\n",
       "      <td>74</td>\n",
       "      <td>Horror,Music,Thriller</td>\n",
       "      <td>3.3</td>\n",
       "      <td>770.0</td>\n",
       "      <td>13</td>\n",
       "      <td>Grizzly II: Revenge</td>\n",
       "      <td>US</td>\n",
       "      <td>\\N</td>\n",
       "      <td>imdbDisplay</td>\n",
       "      <td>\\N</td>\n",
       "      <td>0</td>\n",
       "    </tr>\n",
       "    <tr>\n",
       "      <th>tt0093119</th>\n",
       "      <td>Grizzly II: Revenge</td>\n",
       "      <td>Grizzly II: The Predator</td>\n",
       "      <td>2020</td>\n",
       "      <td>74</td>\n",
       "      <td>Horror,Music,Thriller</td>\n",
       "      <td>3.3</td>\n",
       "      <td>770.0</td>\n",
       "      <td>3</td>\n",
       "      <td>Predator: The Concert</td>\n",
       "      <td>US</td>\n",
       "      <td>\\N</td>\n",
       "      <td>\\N</td>\n",
       "      <td>bootleg title</td>\n",
       "      <td>0</td>\n",
       "    </tr>\n",
       "    <tr>\n",
       "      <th>tt0093119</th>\n",
       "      <td>Grizzly II: Revenge</td>\n",
       "      <td>Grizzly II: The Predator</td>\n",
       "      <td>2020</td>\n",
       "      <td>74</td>\n",
       "      <td>Horror,Music,Thriller</td>\n",
       "      <td>3.3</td>\n",
       "      <td>770.0</td>\n",
       "      <td>5</td>\n",
       "      <td>Grizzly II: The Predator</td>\n",
       "      <td>US</td>\n",
       "      <td>\\N</td>\n",
       "      <td>alternative</td>\n",
       "      <td>\\N</td>\n",
       "      <td>0</td>\n",
       "    </tr>\n",
       "  </tbody>\n",
       "</table>\n",
       "</div>"
      ],
      "text/plain": [
       "                  primaryTitle             originalTitle startYear  \\\n",
       "tt0093119  Grizzly II: Revenge  Grizzly II: The Predator      2020   \n",
       "tt0093119  Grizzly II: Revenge  Grizzly II: The Predator      2020   \n",
       "tt0093119  Grizzly II: Revenge  Grizzly II: The Predator      2020   \n",
       "\n",
       "          runtimeMinutes                 genres  averageRating  numVotes  \\\n",
       "tt0093119             74  Horror,Music,Thriller            3.3     770.0   \n",
       "tt0093119             74  Horror,Music,Thriller            3.3     770.0   \n",
       "tt0093119             74  Horror,Music,Thriller            3.3     770.0   \n",
       "\n",
       "           ordering                     title region language        types  \\\n",
       "tt0093119        13       Grizzly II: Revenge     US       \\N  imdbDisplay   \n",
       "tt0093119         3     Predator: The Concert     US       \\N           \\N   \n",
       "tt0093119         5  Grizzly II: The Predator     US       \\N  alternative   \n",
       "\n",
       "              attributes isOriginalTitle  \n",
       "tt0093119             \\N               0  \n",
       "tt0093119  bootleg title               0  \n",
       "tt0093119             \\N               0  "
      ]
     },
     "execution_count": 35,
     "metadata": {},
     "output_type": "execute_result"
    }
   ],
   "source": [
    "#notice there are duplicte entries of of item tt0093119. \n",
    "#explore and determine how to clean duplicates\n",
    "movie_merge.loc['tt0093119']"
   ]
  },
  {
   "cell_type": "code",
   "execution_count": 36,
   "metadata": {
    "scrolled": true
   },
   "outputs": [],
   "source": [
    "movie_merge = movie_merge.reset_index()"
   ]
  },
  {
   "cell_type": "code",
   "execution_count": 37,
   "metadata": {},
   "outputs": [],
   "source": [
    "movie_merge = movie_merge.rename(columns={'index':'tconst'})"
   ]
  },
  {
   "cell_type": "code",
   "execution_count": 38,
   "metadata": {},
   "outputs": [
    {
     "data": {
      "text/plain": [
       "tt5955540     6\n",
       "tt13009892    6\n",
       "tt8145202     6\n",
       "tt10327252    4\n",
       "tt2401814     4\n",
       "             ..\n",
       "tt7476336     1\n",
       "tt11545410    1\n",
       "tt12147360    1\n",
       "tt11014432    1\n",
       "tt13723564    1\n",
       "Name: tconst, Length: 15581, dtype: int64"
      ]
     },
     "execution_count": 38,
     "metadata": {},
     "output_type": "execute_result"
    }
   ],
   "source": [
    "movie_merge['tconst'].value_counts()"
   ]
  },
  {
   "cell_type": "code",
   "execution_count": 39,
   "metadata": {
    "scrolled": true
   },
   "outputs": [
    {
     "data": {
      "text/html": [
       "<div>\n",
       "<style scoped>\n",
       "    .dataframe tbody tr th:only-of-type {\n",
       "        vertical-align: middle;\n",
       "    }\n",
       "\n",
       "    .dataframe tbody tr th {\n",
       "        vertical-align: top;\n",
       "    }\n",
       "\n",
       "    .dataframe thead th {\n",
       "        text-align: right;\n",
       "    }\n",
       "</style>\n",
       "<table border=\"1\" class=\"dataframe\">\n",
       "  <thead>\n",
       "    <tr style=\"text-align: right;\">\n",
       "      <th></th>\n",
       "      <th>tconst</th>\n",
       "      <th>primaryTitle</th>\n",
       "      <th>originalTitle</th>\n",
       "      <th>startYear</th>\n",
       "      <th>runtimeMinutes</th>\n",
       "      <th>genres</th>\n",
       "      <th>averageRating</th>\n",
       "      <th>numVotes</th>\n",
       "      <th>ordering</th>\n",
       "      <th>title</th>\n",
       "      <th>region</th>\n",
       "      <th>language</th>\n",
       "      <th>types</th>\n",
       "      <th>attributes</th>\n",
       "      <th>isOriginalTitle</th>\n",
       "    </tr>\n",
       "  </thead>\n",
       "  <tbody>\n",
       "    <tr>\n",
       "      <th>13490</th>\n",
       "      <td>tt5955540</td>\n",
       "      <td>The Thousand and One Lives of Doctor Mabuse</td>\n",
       "      <td>The Thousand and One Lives of Doctor Mabuse</td>\n",
       "      <td>2020</td>\n",
       "      <td>\\N</td>\n",
       "      <td>Mystery,Thriller</td>\n",
       "      <td>NaN</td>\n",
       "      <td>NaN</td>\n",
       "      <td>1</td>\n",
       "      <td>Doctor Mabuse A.D. 1984</td>\n",
       "      <td>US</td>\n",
       "      <td>\\N</td>\n",
       "      <td>working</td>\n",
       "      <td>\\N</td>\n",
       "      <td>0</td>\n",
       "    </tr>\n",
       "    <tr>\n",
       "      <th>13491</th>\n",
       "      <td>tt5955540</td>\n",
       "      <td>The Thousand and One Lives of Doctor Mabuse</td>\n",
       "      <td>The Thousand and One Lives of Doctor Mabuse</td>\n",
       "      <td>2020</td>\n",
       "      <td>\\N</td>\n",
       "      <td>Mystery,Thriller</td>\n",
       "      <td>NaN</td>\n",
       "      <td>NaN</td>\n",
       "      <td>2</td>\n",
       "      <td>Mabuse Lives</td>\n",
       "      <td>US</td>\n",
       "      <td>\\N</td>\n",
       "      <td>working</td>\n",
       "      <td>\\N</td>\n",
       "      <td>0</td>\n",
       "    </tr>\n",
       "    <tr>\n",
       "      <th>13492</th>\n",
       "      <td>tt5955540</td>\n",
       "      <td>The Thousand and One Lives of Doctor Mabuse</td>\n",
       "      <td>The Thousand and One Lives of Doctor Mabuse</td>\n",
       "      <td>2020</td>\n",
       "      <td>\\N</td>\n",
       "      <td>Mystery,Thriller</td>\n",
       "      <td>NaN</td>\n",
       "      <td>NaN</td>\n",
       "      <td>3</td>\n",
       "      <td>The Thousand and One Lives of Doctor Mabuse</td>\n",
       "      <td>US</td>\n",
       "      <td>\\N</td>\n",
       "      <td>imdbDisplay</td>\n",
       "      <td>\\N</td>\n",
       "      <td>0</td>\n",
       "    </tr>\n",
       "    <tr>\n",
       "      <th>13493</th>\n",
       "      <td>tt5955540</td>\n",
       "      <td>The Thousand and One Lives of Doctor Mabuse</td>\n",
       "      <td>The Thousand and One Lives of Doctor Mabuse</td>\n",
       "      <td>2020</td>\n",
       "      <td>\\N</td>\n",
       "      <td>Mystery,Thriller</td>\n",
       "      <td>NaN</td>\n",
       "      <td>NaN</td>\n",
       "      <td>4</td>\n",
       "      <td>Doctor Mabuse: Ruler of Ashes</td>\n",
       "      <td>US</td>\n",
       "      <td>\\N</td>\n",
       "      <td>\\N</td>\n",
       "      <td>fake working title</td>\n",
       "      <td>0</td>\n",
       "    </tr>\n",
       "    <tr>\n",
       "      <th>13494</th>\n",
       "      <td>tt5955540</td>\n",
       "      <td>The Thousand and One Lives of Doctor Mabuse</td>\n",
       "      <td>The Thousand and One Lives of Doctor Mabuse</td>\n",
       "      <td>2020</td>\n",
       "      <td>\\N</td>\n",
       "      <td>Mystery,Thriller</td>\n",
       "      <td>NaN</td>\n",
       "      <td>NaN</td>\n",
       "      <td>5</td>\n",
       "      <td>Doctor Mabuse 3</td>\n",
       "      <td>US</td>\n",
       "      <td>\\N</td>\n",
       "      <td>\\N</td>\n",
       "      <td>pre-release title</td>\n",
       "      <td>0</td>\n",
       "    </tr>\n",
       "    <tr>\n",
       "      <th>13495</th>\n",
       "      <td>tt5955540</td>\n",
       "      <td>The Thousand and One Lives of Doctor Mabuse</td>\n",
       "      <td>The Thousand and One Lives of Doctor Mabuse</td>\n",
       "      <td>2020</td>\n",
       "      <td>\\N</td>\n",
       "      <td>Mystery,Thriller</td>\n",
       "      <td>NaN</td>\n",
       "      <td>NaN</td>\n",
       "      <td>7</td>\n",
       "      <td>Doctor Mabuse AD</td>\n",
       "      <td>US</td>\n",
       "      <td>\\N</td>\n",
       "      <td>working</td>\n",
       "      <td>\\N</td>\n",
       "      <td>0</td>\n",
       "    </tr>\n",
       "  </tbody>\n",
       "</table>\n",
       "</div>"
      ],
      "text/plain": [
       "          tconst                                 primaryTitle  \\\n",
       "13490  tt5955540  The Thousand and One Lives of Doctor Mabuse   \n",
       "13491  tt5955540  The Thousand and One Lives of Doctor Mabuse   \n",
       "13492  tt5955540  The Thousand and One Lives of Doctor Mabuse   \n",
       "13493  tt5955540  The Thousand and One Lives of Doctor Mabuse   \n",
       "13494  tt5955540  The Thousand and One Lives of Doctor Mabuse   \n",
       "13495  tt5955540  The Thousand and One Lives of Doctor Mabuse   \n",
       "\n",
       "                                     originalTitle startYear runtimeMinutes  \\\n",
       "13490  The Thousand and One Lives of Doctor Mabuse      2020             \\N   \n",
       "13491  The Thousand and One Lives of Doctor Mabuse      2020             \\N   \n",
       "13492  The Thousand and One Lives of Doctor Mabuse      2020             \\N   \n",
       "13493  The Thousand and One Lives of Doctor Mabuse      2020             \\N   \n",
       "13494  The Thousand and One Lives of Doctor Mabuse      2020             \\N   \n",
       "13495  The Thousand and One Lives of Doctor Mabuse      2020             \\N   \n",
       "\n",
       "                 genres  averageRating  numVotes  ordering  \\\n",
       "13490  Mystery,Thriller            NaN       NaN         1   \n",
       "13491  Mystery,Thriller            NaN       NaN         2   \n",
       "13492  Mystery,Thriller            NaN       NaN         3   \n",
       "13493  Mystery,Thriller            NaN       NaN         4   \n",
       "13494  Mystery,Thriller            NaN       NaN         5   \n",
       "13495  Mystery,Thriller            NaN       NaN         7   \n",
       "\n",
       "                                             title region language  \\\n",
       "13490                      Doctor Mabuse A.D. 1984     US       \\N   \n",
       "13491                                 Mabuse Lives     US       \\N   \n",
       "13492  The Thousand and One Lives of Doctor Mabuse     US       \\N   \n",
       "13493                Doctor Mabuse: Ruler of Ashes     US       \\N   \n",
       "13494                              Doctor Mabuse 3     US       \\N   \n",
       "13495                             Doctor Mabuse AD     US       \\N   \n",
       "\n",
       "             types          attributes isOriginalTitle  \n",
       "13490      working                  \\N               0  \n",
       "13491      working                  \\N               0  \n",
       "13492  imdbDisplay                  \\N               0  \n",
       "13493           \\N  fake working title               0  \n",
       "13494           \\N   pre-release title               0  \n",
       "13495      working                  \\N               0  "
      ]
     },
     "execution_count": 39,
     "metadata": {},
     "output_type": "execute_result"
    }
   ],
   "source": [
    "movie_merge[movie_merge['tconst']=='tt5955540']"
   ]
  },
  {
   "cell_type": "code",
   "execution_count": 40,
   "metadata": {
    "scrolled": true
   },
   "outputs": [
    {
     "data": {
      "text/html": [
       "<div>\n",
       "<style scoped>\n",
       "    .dataframe tbody tr th:only-of-type {\n",
       "        vertical-align: middle;\n",
       "    }\n",
       "\n",
       "    .dataframe tbody tr th {\n",
       "        vertical-align: top;\n",
       "    }\n",
       "\n",
       "    .dataframe thead th {\n",
       "        text-align: right;\n",
       "    }\n",
       "</style>\n",
       "<table border=\"1\" class=\"dataframe\">\n",
       "  <thead>\n",
       "    <tr style=\"text-align: right;\">\n",
       "      <th></th>\n",
       "      <th>tconst</th>\n",
       "      <th>primaryTitle</th>\n",
       "      <th>originalTitle</th>\n",
       "      <th>startYear</th>\n",
       "      <th>runtimeMinutes</th>\n",
       "      <th>genres</th>\n",
       "      <th>averageRating</th>\n",
       "      <th>numVotes</th>\n",
       "      <th>ordering</th>\n",
       "      <th>title</th>\n",
       "      <th>region</th>\n",
       "      <th>language</th>\n",
       "      <th>types</th>\n",
       "      <th>attributes</th>\n",
       "      <th>isOriginalTitle</th>\n",
       "    </tr>\n",
       "  </thead>\n",
       "  <tbody>\n",
       "    <tr>\n",
       "      <th>12606</th>\n",
       "      <td>tt2401814</td>\n",
       "      <td>The Loneliest Whale: The Search for 52</td>\n",
       "      <td>The Loneliest Whale: The Search for 52</td>\n",
       "      <td>2021</td>\n",
       "      <td>96</td>\n",
       "      <td>Adventure,Documentary</td>\n",
       "      <td>6.8</td>\n",
       "      <td>166.0</td>\n",
       "      <td>1</td>\n",
       "      <td>Finding 52: The Search for the Loneliest Whale...</td>\n",
       "      <td>US</td>\n",
       "      <td>\\N</td>\n",
       "      <td>working</td>\n",
       "      <td>\\N</td>\n",
       "      <td>0</td>\n",
       "    </tr>\n",
       "    <tr>\n",
       "      <th>12607</th>\n",
       "      <td>tt2401814</td>\n",
       "      <td>The Loneliest Whale: The Search for 52</td>\n",
       "      <td>The Loneliest Whale: The Search for 52</td>\n",
       "      <td>2021</td>\n",
       "      <td>96</td>\n",
       "      <td>Adventure,Documentary</td>\n",
       "      <td>6.8</td>\n",
       "      <td>166.0</td>\n",
       "      <td>3</td>\n",
       "      <td>52: The Search for the Loneliest Whale in the ...</td>\n",
       "      <td>US</td>\n",
       "      <td>en</td>\n",
       "      <td>working</td>\n",
       "      <td>\\N</td>\n",
       "      <td>0</td>\n",
       "    </tr>\n",
       "    <tr>\n",
       "      <th>12608</th>\n",
       "      <td>tt2401814</td>\n",
       "      <td>The Loneliest Whale: The Search for 52</td>\n",
       "      <td>The Loneliest Whale: The Search for 52</td>\n",
       "      <td>2021</td>\n",
       "      <td>96</td>\n",
       "      <td>Adventure,Documentary</td>\n",
       "      <td>6.8</td>\n",
       "      <td>166.0</td>\n",
       "      <td>5</td>\n",
       "      <td>Finding 52</td>\n",
       "      <td>US</td>\n",
       "      <td>\\N</td>\n",
       "      <td>working</td>\n",
       "      <td>\\N</td>\n",
       "      <td>0</td>\n",
       "    </tr>\n",
       "    <tr>\n",
       "      <th>12609</th>\n",
       "      <td>tt2401814</td>\n",
       "      <td>The Loneliest Whale: The Search for 52</td>\n",
       "      <td>The Loneliest Whale: The Search for 52</td>\n",
       "      <td>2021</td>\n",
       "      <td>96</td>\n",
       "      <td>Adventure,Documentary</td>\n",
       "      <td>6.8</td>\n",
       "      <td>166.0</td>\n",
       "      <td>8</td>\n",
       "      <td>The Loneliest Whale: The Search for 52</td>\n",
       "      <td>US</td>\n",
       "      <td>\\N</td>\n",
       "      <td>\\N</td>\n",
       "      <td>\\N</td>\n",
       "      <td>0</td>\n",
       "    </tr>\n",
       "  </tbody>\n",
       "</table>\n",
       "</div>"
      ],
      "text/plain": [
       "          tconst                            primaryTitle  \\\n",
       "12606  tt2401814  The Loneliest Whale: The Search for 52   \n",
       "12607  tt2401814  The Loneliest Whale: The Search for 52   \n",
       "12608  tt2401814  The Loneliest Whale: The Search for 52   \n",
       "12609  tt2401814  The Loneliest Whale: The Search for 52   \n",
       "\n",
       "                                originalTitle startYear runtimeMinutes  \\\n",
       "12606  The Loneliest Whale: The Search for 52      2021             96   \n",
       "12607  The Loneliest Whale: The Search for 52      2021             96   \n",
       "12608  The Loneliest Whale: The Search for 52      2021             96   \n",
       "12609  The Loneliest Whale: The Search for 52      2021             96   \n",
       "\n",
       "                      genres  averageRating  numVotes  ordering  \\\n",
       "12606  Adventure,Documentary            6.8     166.0         1   \n",
       "12607  Adventure,Documentary            6.8     166.0         3   \n",
       "12608  Adventure,Documentary            6.8     166.0         5   \n",
       "12609  Adventure,Documentary            6.8     166.0         8   \n",
       "\n",
       "                                                   title region language  \\\n",
       "12606  Finding 52: The Search for the Loneliest Whale...     US       \\N   \n",
       "12607  52: The Search for the Loneliest Whale in the ...     US       en   \n",
       "12608                                         Finding 52     US       \\N   \n",
       "12609             The Loneliest Whale: The Search for 52     US       \\N   \n",
       "\n",
       "         types attributes isOriginalTitle  \n",
       "12606  working         \\N               0  \n",
       "12607  working         \\N               0  \n",
       "12608  working         \\N               0  \n",
       "12609       \\N         \\N               0  "
      ]
     },
     "execution_count": 40,
     "metadata": {},
     "output_type": "execute_result"
    }
   ],
   "source": [
    "movie_merge[movie_merge['tconst']=='tt2401814']"
   ]
  },
  {
   "cell_type": "code",
   "execution_count": 41,
   "metadata": {},
   "outputs": [],
   "source": [
    "#one entry isn't preferable to others. \n",
    "#keep the first appearance \n",
    "movie_merge = movie_merge.drop_duplicates(subset=['tconst'], keep='first')"
   ]
  },
  {
   "cell_type": "code",
   "execution_count": 42,
   "metadata": {},
   "outputs": [
    {
     "data": {
      "text/plain": [
       "(15581, 15)"
      ]
     },
     "execution_count": 42,
     "metadata": {},
     "output_type": "execute_result"
    }
   ],
   "source": [
    "movie_merge.shape"
   ]
  },
  {
   "cell_type": "code",
   "execution_count": 43,
   "metadata": {},
   "outputs": [
    {
     "data": {
      "text/plain": [
       "Index(['tconst', 'primaryTitle', 'originalTitle', 'startYear',\n",
       "       'runtimeMinutes', 'genres', 'averageRating', 'numVotes', 'ordering',\n",
       "       'title', 'region', 'language', 'types', 'attributes',\n",
       "       'isOriginalTitle'],\n",
       "      dtype='object')"
      ]
     },
     "execution_count": 43,
     "metadata": {},
     "output_type": "execute_result"
    }
   ],
   "source": [
    "movie_merge.columns"
   ]
  },
  {
   "cell_type": "code",
   "execution_count": 44,
   "metadata": {},
   "outputs": [],
   "source": [
    "#keep only relevant columns\n",
    "movie_merge = movie_merge.drop(columns=['ordering', 'region', 'language', 'types', 'attributes','isOriginalTitle'])"
   ]
  },
  {
   "cell_type": "code",
   "execution_count": 45,
   "metadata": {},
   "outputs": [],
   "source": [
    "#remove entries that do not contain ratings\n",
    "movie_merge = movie_merge.dropna(subset=['averageRating'])"
   ]
  },
  {
   "cell_type": "code",
   "execution_count": 46,
   "metadata": {
    "scrolled": true
   },
   "outputs": [
    {
     "data": {
      "text/html": [
       "<div>\n",
       "<style scoped>\n",
       "    .dataframe tbody tr th:only-of-type {\n",
       "        vertical-align: middle;\n",
       "    }\n",
       "\n",
       "    .dataframe tbody tr th {\n",
       "        vertical-align: top;\n",
       "    }\n",
       "\n",
       "    .dataframe thead th {\n",
       "        text-align: right;\n",
       "    }\n",
       "</style>\n",
       "<table border=\"1\" class=\"dataframe\">\n",
       "  <thead>\n",
       "    <tr style=\"text-align: right;\">\n",
       "      <th></th>\n",
       "      <th>tconst</th>\n",
       "      <th>primaryTitle</th>\n",
       "      <th>originalTitle</th>\n",
       "      <th>startYear</th>\n",
       "      <th>runtimeMinutes</th>\n",
       "      <th>genres</th>\n",
       "      <th>averageRating</th>\n",
       "      <th>numVotes</th>\n",
       "      <th>title</th>\n",
       "    </tr>\n",
       "  </thead>\n",
       "  <tbody>\n",
       "    <tr>\n",
       "      <th>13859</th>\n",
       "      <td>tt6723592</td>\n",
       "      <td>Tenet</td>\n",
       "      <td>Tenet</td>\n",
       "      <td>2020</td>\n",
       "      <td>150</td>\n",
       "      <td>Action,Sci-Fi,Thriller</td>\n",
       "      <td>7.4</td>\n",
       "      <td>417671.0</td>\n",
       "      <td>Tenet</td>\n",
       "    </tr>\n",
       "    <tr>\n",
       "      <th>4920</th>\n",
       "      <td>tt12361974</td>\n",
       "      <td>Zack Snyder's Justice League</td>\n",
       "      <td>Zack Snyder's Justice League</td>\n",
       "      <td>2021</td>\n",
       "      <td>242</td>\n",
       "      <td>Action,Adventure,Fantasy</td>\n",
       "      <td>8.1</td>\n",
       "      <td>334175.0</td>\n",
       "      <td>The Snyder Cut</td>\n",
       "    </tr>\n",
       "    <tr>\n",
       "      <th>12672</th>\n",
       "      <td>tt2948372</td>\n",
       "      <td>Soul</td>\n",
       "      <td>Soul</td>\n",
       "      <td>2020</td>\n",
       "      <td>100</td>\n",
       "      <td>Adventure,Animation,Comedy</td>\n",
       "      <td>8.1</td>\n",
       "      <td>276210.0</td>\n",
       "      <td>Soul</td>\n",
       "    </tr>\n",
       "    <tr>\n",
       "      <th>14070</th>\n",
       "      <td>tt7126948</td>\n",
       "      <td>Wonder Woman 1984</td>\n",
       "      <td>Wonder Woman 1984</td>\n",
       "      <td>2020</td>\n",
       "      <td>151</td>\n",
       "      <td>Action,Adventure,Fantasy</td>\n",
       "      <td>5.4</td>\n",
       "      <td>228845.0</td>\n",
       "      <td>Wonder Woman 2</td>\n",
       "    </tr>\n",
       "    <tr>\n",
       "      <th>12788</th>\n",
       "      <td>tt3480822</td>\n",
       "      <td>Black Widow</td>\n",
       "      <td>Black Widow</td>\n",
       "      <td>2021</td>\n",
       "      <td>134</td>\n",
       "      <td>Action,Adventure,Sci-Fi</td>\n",
       "      <td>6.8</td>\n",
       "      <td>209559.0</td>\n",
       "      <td>Blue Bayou</td>\n",
       "    </tr>\n",
       "    <tr>\n",
       "      <th>...</th>\n",
       "      <td>...</td>\n",
       "      <td>...</td>\n",
       "      <td>...</td>\n",
       "      <td>...</td>\n",
       "      <td>...</td>\n",
       "      <td>...</td>\n",
       "      <td>...</td>\n",
       "      <td>...</td>\n",
       "      <td>...</td>\n",
       "    </tr>\n",
       "    <tr>\n",
       "      <th>7706</th>\n",
       "      <td>tt13344348</td>\n",
       "      <td>Headless</td>\n",
       "      <td>Bisar</td>\n",
       "      <td>2020</td>\n",
       "      <td>93</td>\n",
       "      <td>Drama</td>\n",
       "      <td>6.2</td>\n",
       "      <td>5.0</td>\n",
       "      <td>Headless</td>\n",
       "    </tr>\n",
       "    <tr>\n",
       "      <th>1428</th>\n",
       "      <td>tt10867576</td>\n",
       "      <td>An Exquisite Meal</td>\n",
       "      <td>An Exquisite Meal</td>\n",
       "      <td>2020</td>\n",
       "      <td>\\N</td>\n",
       "      <td>Comedy,Thriller</td>\n",
       "      <td>4.4</td>\n",
       "      <td>5.0</td>\n",
       "      <td>An Exquisite Meal</td>\n",
       "    </tr>\n",
       "    <tr>\n",
       "      <th>13803</th>\n",
       "      <td>tt6626798</td>\n",
       "      <td>Around Rocha's Table</td>\n",
       "      <td>Távola de Rocha</td>\n",
       "      <td>2021</td>\n",
       "      <td>94</td>\n",
       "      <td>Documentary</td>\n",
       "      <td>3.8</td>\n",
       "      <td>5.0</td>\n",
       "      <td>Around Rocha's Table</td>\n",
       "    </tr>\n",
       "    <tr>\n",
       "      <th>4257</th>\n",
       "      <td>tt12059646</td>\n",
       "      <td>Anonymous Vol. 1 - The Dreamland Adventures th...</td>\n",
       "      <td>Anonymous Vol. 1 - The Dreamland Adventures th...</td>\n",
       "      <td>2020</td>\n",
       "      <td>\\N</td>\n",
       "      <td>Action,Adventure,Mystery</td>\n",
       "      <td>7.8</td>\n",
       "      <td>5.0</td>\n",
       "      <td>Anonymous Vol. 1 - The Dreamland Adventures th...</td>\n",
       "    </tr>\n",
       "    <tr>\n",
       "      <th>14505</th>\n",
       "      <td>tt7845872</td>\n",
       "      <td>Children of Mud</td>\n",
       "      <td>Children of Mud</td>\n",
       "      <td>2020</td>\n",
       "      <td>83</td>\n",
       "      <td>Drama,Family</td>\n",
       "      <td>6.2</td>\n",
       "      <td>5.0</td>\n",
       "      <td>Children of Mud</td>\n",
       "    </tr>\n",
       "  </tbody>\n",
       "</table>\n",
       "<p>7584 rows × 9 columns</p>\n",
       "</div>"
      ],
      "text/plain": [
       "           tconst                                       primaryTitle  \\\n",
       "13859   tt6723592                                              Tenet   \n",
       "4920   tt12361974                       Zack Snyder's Justice League   \n",
       "12672   tt2948372                                               Soul   \n",
       "14070   tt7126948                                  Wonder Woman 1984   \n",
       "12788   tt3480822                                        Black Widow   \n",
       "...           ...                                                ...   \n",
       "7706   tt13344348                                           Headless   \n",
       "1428   tt10867576                                  An Exquisite Meal   \n",
       "13803   tt6626798                               Around Rocha's Table   \n",
       "4257   tt12059646  Anonymous Vol. 1 - The Dreamland Adventures th...   \n",
       "14505   tt7845872                                    Children of Mud   \n",
       "\n",
       "                                           originalTitle startYear  \\\n",
       "13859                                              Tenet      2020   \n",
       "4920                        Zack Snyder's Justice League      2021   \n",
       "12672                                               Soul      2020   \n",
       "14070                                  Wonder Woman 1984      2020   \n",
       "12788                                        Black Widow      2021   \n",
       "...                                                  ...       ...   \n",
       "7706                                               Bisar      2020   \n",
       "1428                                   An Exquisite Meal      2020   \n",
       "13803                                    Távola de Rocha      2021   \n",
       "4257   Anonymous Vol. 1 - The Dreamland Adventures th...      2020   \n",
       "14505                                    Children of Mud      2020   \n",
       "\n",
       "      runtimeMinutes                      genres  averageRating  numVotes  \\\n",
       "13859            150      Action,Sci-Fi,Thriller            7.4  417671.0   \n",
       "4920             242    Action,Adventure,Fantasy            8.1  334175.0   \n",
       "12672            100  Adventure,Animation,Comedy            8.1  276210.0   \n",
       "14070            151    Action,Adventure,Fantasy            5.4  228845.0   \n",
       "12788            134     Action,Adventure,Sci-Fi            6.8  209559.0   \n",
       "...              ...                         ...            ...       ...   \n",
       "7706              93                       Drama            6.2       5.0   \n",
       "1428              \\N             Comedy,Thriller            4.4       5.0   \n",
       "13803             94                 Documentary            3.8       5.0   \n",
       "4257              \\N    Action,Adventure,Mystery            7.8       5.0   \n",
       "14505             83                Drama,Family            6.2       5.0   \n",
       "\n",
       "                                                   title  \n",
       "13859                                              Tenet  \n",
       "4920                                      The Snyder Cut  \n",
       "12672                                               Soul  \n",
       "14070                                     Wonder Woman 2  \n",
       "12788                                         Blue Bayou  \n",
       "...                                                  ...  \n",
       "7706                                            Headless  \n",
       "1428                                   An Exquisite Meal  \n",
       "13803                               Around Rocha's Table  \n",
       "4257   Anonymous Vol. 1 - The Dreamland Adventures th...  \n",
       "14505                                    Children of Mud  \n",
       "\n",
       "[7584 rows x 9 columns]"
      ]
     },
     "execution_count": 46,
     "metadata": {},
     "output_type": "execute_result"
    }
   ],
   "source": [
    "movie_merge.sort_values(by=['numVotes'], ascending=False)"
   ]
  },
  {
   "cell_type": "code",
   "execution_count": 47,
   "metadata": {},
   "outputs": [],
   "source": [
    "movie_merge['comparison'] = (movie_merge['originalTitle'] == movie_merge['primaryTitle'])"
   ]
  },
  {
   "cell_type": "code",
   "execution_count": 48,
   "metadata": {},
   "outputs": [
    {
     "data": {
      "text/plain": [
       "True     0.773866\n",
       "False    0.226134\n",
       "Name: comparison, dtype: float64"
      ]
     },
     "execution_count": 48,
     "metadata": {},
     "output_type": "execute_result"
    }
   ],
   "source": [
    "movie_merge['comparison'].value_counts(normalize=True)"
   ]
  },
  {
   "cell_type": "markdown",
   "metadata": {},
   "source": [
    "## Is there a relationship between genre and rating/number of votes in post-pandemic movies? "
   ]
  },
  {
   "cell_type": "code",
   "execution_count": 49,
   "metadata": {},
   "outputs": [],
   "source": [
    "import matplotlib.pyplot as plt"
   ]
  },
  {
   "cell_type": "code",
   "execution_count": 50,
   "metadata": {},
   "outputs": [
    {
     "data": {
      "text/plain": [
       "<matplotlib.collections.PathCollection at 0x2e9554657f0>"
      ]
     },
     "execution_count": 50,
     "metadata": {},
     "output_type": "execute_result"
    },
    {
     "data": {
      "image/png": "[encoded data removed]",
      "text/plain": [
       "<Figure size 432x288 with 1 Axes>"
      ]
     },
     "metadata": {
      "needs_background": "light"
     },
     "output_type": "display_data"
    }
   ],
   "source": [
    "#is there a relationship between averageRating and numVotes?\n",
    "fig, ax = plt.subplots()\n",
    "ax.scatter(x= movie_merge['averageRating'], y= movie_merge['numVotes'])"
   ]
  },
  {
   "cell_type": "markdown",
   "metadata": {},
   "source": [
    "## Is there a trend between genre and imdb ratings? "
   ]
  },
  {
   "cell_type": "code",
   "execution_count": 51,
   "metadata": {},
   "outputs": [
    {
     "data": {
      "text/plain": [
       "Drama                         1216\n",
       "Documentary                   1198\n",
       "Comedy                         438\n",
       "Horror                         393\n",
       "Thriller                       301\n",
       "                              ... \n",
       "Biography,Crime,Western          1\n",
       "Biography,Comedy                 1\n",
       "Crime,Documentary,Thriller       1\n",
       "Action,Fantasy,Romance           1\n",
       "Adventure,Comedy,Musical         1\n",
       "Name: genres, Length: 464, dtype: int64"
      ]
     },
     "execution_count": 51,
     "metadata": {},
     "output_type": "execute_result"
    }
   ],
   "source": [
    "#is there a trend of ratings by genre? \n",
    "movie_merge['genres'].value_counts()"
   ]
  },
  {
   "cell_type": "code",
   "execution_count": 52,
   "metadata": {},
   "outputs": [
    {
     "data": {
      "text/html": [
       "<div>\n",
       "<style scoped>\n",
       "    .dataframe tbody tr th:only-of-type {\n",
       "        vertical-align: middle;\n",
       "    }\n",
       "\n",
       "    .dataframe tbody tr th {\n",
       "        vertical-align: top;\n",
       "    }\n",
       "\n",
       "    .dataframe thead th {\n",
       "        text-align: right;\n",
       "    }\n",
       "</style>\n",
       "<table border=\"1\" class=\"dataframe\">\n",
       "  <thead>\n",
       "    <tr style=\"text-align: right;\">\n",
       "      <th></th>\n",
       "      <th>averageRating</th>\n",
       "      <th>numVotes</th>\n",
       "    </tr>\n",
       "  </thead>\n",
       "  <tbody>\n",
       "    <tr>\n",
       "      <th>count</th>\n",
       "      <td>1216.000000</td>\n",
       "      <td>1216.000000</td>\n",
       "    </tr>\n",
       "    <tr>\n",
       "      <th>mean</th>\n",
       "      <td>6.306086</td>\n",
       "      <td>803.127467</td>\n",
       "    </tr>\n",
       "    <tr>\n",
       "      <th>std</th>\n",
       "      <td>1.408357</td>\n",
       "      <td>5979.936026</td>\n",
       "    </tr>\n",
       "    <tr>\n",
       "      <th>min</th>\n",
       "      <td>1.000000</td>\n",
       "      <td>5.000000</td>\n",
       "    </tr>\n",
       "    <tr>\n",
       "      <th>25%</th>\n",
       "      <td>5.600000</td>\n",
       "      <td>21.000000</td>\n",
       "    </tr>\n",
       "    <tr>\n",
       "      <th>50%</th>\n",
       "      <td>6.400000</td>\n",
       "      <td>56.000000</td>\n",
       "    </tr>\n",
       "    <tr>\n",
       "      <th>75%</th>\n",
       "      <td>7.100000</td>\n",
       "      <td>167.000000</td>\n",
       "    </tr>\n",
       "    <tr>\n",
       "      <th>max</th>\n",
       "      <td>10.000000</td>\n",
       "      <td>124853.000000</td>\n",
       "    </tr>\n",
       "  </tbody>\n",
       "</table>\n",
       "</div>"
      ],
      "text/plain": [
       "       averageRating       numVotes\n",
       "count    1216.000000    1216.000000\n",
       "mean        6.306086     803.127467\n",
       "std         1.408357    5979.936026\n",
       "min         1.000000       5.000000\n",
       "25%         5.600000      21.000000\n",
       "50%         6.400000      56.000000\n",
       "75%         7.100000     167.000000\n",
       "max        10.000000  124853.000000"
      ]
     },
     "execution_count": 52,
     "metadata": {},
     "output_type": "execute_result"
    }
   ],
   "source": [
    "movie_merge[movie_merge['genres']=='Drama'].describe()"
   ]
  },
  {
   "cell_type": "code",
   "execution_count": 53,
   "metadata": {},
   "outputs": [
    {
     "data": {
      "text/html": [
       "<div>\n",
       "<style scoped>\n",
       "    .dataframe tbody tr th:only-of-type {\n",
       "        vertical-align: middle;\n",
       "    }\n",
       "\n",
       "    .dataframe tbody tr th {\n",
       "        vertical-align: top;\n",
       "    }\n",
       "\n",
       "    .dataframe thead th {\n",
       "        text-align: right;\n",
       "    }\n",
       "</style>\n",
       "<table border=\"1\" class=\"dataframe\">\n",
       "  <thead>\n",
       "    <tr style=\"text-align: right;\">\n",
       "      <th></th>\n",
       "      <th>averageRating</th>\n",
       "      <th>numVotes</th>\n",
       "    </tr>\n",
       "  </thead>\n",
       "  <tbody>\n",
       "    <tr>\n",
       "      <th>count</th>\n",
       "      <td>438.000000</td>\n",
       "      <td>438.000000</td>\n",
       "    </tr>\n",
       "    <tr>\n",
       "      <th>mean</th>\n",
       "      <td>5.673973</td>\n",
       "      <td>960.821918</td>\n",
       "    </tr>\n",
       "    <tr>\n",
       "      <th>std</th>\n",
       "      <td>1.601546</td>\n",
       "      <td>7058.163082</td>\n",
       "    </tr>\n",
       "    <tr>\n",
       "      <th>min</th>\n",
       "      <td>1.200000</td>\n",
       "      <td>5.000000</td>\n",
       "    </tr>\n",
       "    <tr>\n",
       "      <th>25%</th>\n",
       "      <td>4.600000</td>\n",
       "      <td>27.000000</td>\n",
       "    </tr>\n",
       "    <tr>\n",
       "      <th>50%</th>\n",
       "      <td>5.700000</td>\n",
       "      <td>73.000000</td>\n",
       "    </tr>\n",
       "    <tr>\n",
       "      <th>75%</th>\n",
       "      <td>6.700000</td>\n",
       "      <td>260.000000</td>\n",
       "    </tr>\n",
       "    <tr>\n",
       "      <th>max</th>\n",
       "      <td>10.000000</td>\n",
       "      <td>129535.000000</td>\n",
       "    </tr>\n",
       "  </tbody>\n",
       "</table>\n",
       "</div>"
      ],
      "text/plain": [
       "       averageRating       numVotes\n",
       "count     438.000000     438.000000\n",
       "mean        5.673973     960.821918\n",
       "std         1.601546    7058.163082\n",
       "min         1.200000       5.000000\n",
       "25%         4.600000      27.000000\n",
       "50%         5.700000      73.000000\n",
       "75%         6.700000     260.000000\n",
       "max        10.000000  129535.000000"
      ]
     },
     "execution_count": 53,
     "metadata": {},
     "output_type": "execute_result"
    }
   ],
   "source": [
    "movie_merge[movie_merge['genres']=='Comedy'].describe()"
   ]
  },
  {
   "cell_type": "code",
   "execution_count": 54,
   "metadata": {},
   "outputs": [
    {
     "data": {
      "text/html": [
       "<div>\n",
       "<style scoped>\n",
       "    .dataframe tbody tr th:only-of-type {\n",
       "        vertical-align: middle;\n",
       "    }\n",
       "\n",
       "    .dataframe tbody tr th {\n",
       "        vertical-align: top;\n",
       "    }\n",
       "\n",
       "    .dataframe thead th {\n",
       "        text-align: right;\n",
       "    }\n",
       "</style>\n",
       "<table border=\"1\" class=\"dataframe\">\n",
       "  <thead>\n",
       "    <tr style=\"text-align: right;\">\n",
       "      <th></th>\n",
       "      <th>averageRating</th>\n",
       "      <th>numVotes</th>\n",
       "    </tr>\n",
       "  </thead>\n",
       "  <tbody>\n",
       "    <tr>\n",
       "      <th>count</th>\n",
       "      <td>90.000000</td>\n",
       "      <td>90.000000</td>\n",
       "    </tr>\n",
       "    <tr>\n",
       "      <th>mean</th>\n",
       "      <td>5.636667</td>\n",
       "      <td>409.288889</td>\n",
       "    </tr>\n",
       "    <tr>\n",
       "      <th>std</th>\n",
       "      <td>1.980378</td>\n",
       "      <td>1173.322941</td>\n",
       "    </tr>\n",
       "    <tr>\n",
       "      <th>min</th>\n",
       "      <td>1.900000</td>\n",
       "      <td>5.000000</td>\n",
       "    </tr>\n",
       "    <tr>\n",
       "      <th>25%</th>\n",
       "      <td>4.150000</td>\n",
       "      <td>23.000000</td>\n",
       "    </tr>\n",
       "    <tr>\n",
       "      <th>50%</th>\n",
       "      <td>6.050000</td>\n",
       "      <td>80.000000</td>\n",
       "    </tr>\n",
       "    <tr>\n",
       "      <th>75%</th>\n",
       "      <td>6.900000</td>\n",
       "      <td>302.250000</td>\n",
       "    </tr>\n",
       "    <tr>\n",
       "      <th>max</th>\n",
       "      <td>9.900000</td>\n",
       "      <td>9356.000000</td>\n",
       "    </tr>\n",
       "  </tbody>\n",
       "</table>\n",
       "</div>"
      ],
      "text/plain": [
       "       averageRating     numVotes\n",
       "count      90.000000    90.000000\n",
       "mean        5.636667   409.288889\n",
       "std         1.980378  1173.322941\n",
       "min         1.900000     5.000000\n",
       "25%         4.150000    23.000000\n",
       "50%         6.050000    80.000000\n",
       "75%         6.900000   302.250000\n",
       "max         9.900000  9356.000000"
      ]
     },
     "execution_count": 54,
     "metadata": {},
     "output_type": "execute_result"
    }
   ],
   "source": [
    "movie_merge[movie_merge['genres']=='Action'].describe()"
   ]
  },
  {
   "cell_type": "code",
   "execution_count": 55,
   "metadata": {},
   "outputs": [
    {
     "data": {
      "text/html": [
       "<div>\n",
       "<style scoped>\n",
       "    .dataframe tbody tr th:only-of-type {\n",
       "        vertical-align: middle;\n",
       "    }\n",
       "\n",
       "    .dataframe tbody tr th {\n",
       "        vertical-align: top;\n",
       "    }\n",
       "\n",
       "    .dataframe thead th {\n",
       "        text-align: right;\n",
       "    }\n",
       "</style>\n",
       "<table border=\"1\" class=\"dataframe\">\n",
       "  <thead>\n",
       "    <tr style=\"text-align: right;\">\n",
       "      <th></th>\n",
       "      <th>genres</th>\n",
       "      <th>averageRating</th>\n",
       "      <th>numVotes</th>\n",
       "    </tr>\n",
       "  </thead>\n",
       "  <tbody>\n",
       "    <tr>\n",
       "      <th>0</th>\n",
       "      <td>Drama</td>\n",
       "      <td>6.3</td>\n",
       "      <td>150.0</td>\n",
       "    </tr>\n",
       "    <tr>\n",
       "      <th>1</th>\n",
       "      <td>Documentary</td>\n",
       "      <td>7.3</td>\n",
       "      <td>11.0</td>\n",
       "    </tr>\n",
       "    <tr>\n",
       "      <th>2</th>\n",
       "      <td>Horror,Music,Thriller</td>\n",
       "      <td>3.3</td>\n",
       "      <td>770.0</td>\n",
       "    </tr>\n",
       "    <tr>\n",
       "      <th>5</th>\n",
       "      <td>Action,Adventure,Fantasy</td>\n",
       "      <td>6.1</td>\n",
       "      <td>138331.0</td>\n",
       "    </tr>\n",
       "    <tr>\n",
       "      <th>11</th>\n",
       "      <td>Documentary</td>\n",
       "      <td>6.6</td>\n",
       "      <td>8.0</td>\n",
       "    </tr>\n",
       "    <tr>\n",
       "      <th>...</th>\n",
       "      <td>...</td>\n",
       "      <td>...</td>\n",
       "      <td>...</td>\n",
       "    </tr>\n",
       "    <tr>\n",
       "      <th>16392</th>\n",
       "      <td>War</td>\n",
       "      <td>4.5</td>\n",
       "      <td>1386.0</td>\n",
       "    </tr>\n",
       "    <tr>\n",
       "      <th>16393</th>\n",
       "      <td>Horror</td>\n",
       "      <td>5.9</td>\n",
       "      <td>194.0</td>\n",
       "    </tr>\n",
       "    <tr>\n",
       "      <th>16396</th>\n",
       "      <td>Comedy,Drama</td>\n",
       "      <td>7.6</td>\n",
       "      <td>3161.0</td>\n",
       "    </tr>\n",
       "    <tr>\n",
       "      <th>16398</th>\n",
       "      <td>Action,Adventure,Thriller</td>\n",
       "      <td>3.6</td>\n",
       "      <td>222.0</td>\n",
       "    </tr>\n",
       "    <tr>\n",
       "      <th>16399</th>\n",
       "      <td>Adventure,Drama,History</td>\n",
       "      <td>6.4</td>\n",
       "      <td>3864.0</td>\n",
       "    </tr>\n",
       "  </tbody>\n",
       "</table>\n",
       "<p>7584 rows × 3 columns</p>\n",
       "</div>"
      ],
      "text/plain": [
       "                          genres  averageRating  numVotes\n",
       "0                          Drama            6.3     150.0\n",
       "1                    Documentary            7.3      11.0\n",
       "2          Horror,Music,Thriller            3.3     770.0\n",
       "5       Action,Adventure,Fantasy            6.1  138331.0\n",
       "11                   Documentary            6.6       8.0\n",
       "...                          ...            ...       ...\n",
       "16392                        War            4.5    1386.0\n",
       "16393                     Horror            5.9     194.0\n",
       "16396               Comedy,Drama            7.6    3161.0\n",
       "16398  Action,Adventure,Thriller            3.6     222.0\n",
       "16399    Adventure,Drama,History            6.4    3864.0\n",
       "\n",
       "[7584 rows x 3 columns]"
      ]
     },
     "execution_count": 55,
     "metadata": {},
     "output_type": "execute_result"
    }
   ],
   "source": [
    "genres = movie_merge[['genres', 'averageRating', 'numVotes']]\n",
    "genres"
   ]
  },
  {
   "cell_type": "code",
   "execution_count": 56,
   "metadata": {},
   "outputs": [
    {
     "name": "stderr",
     "output_type": "stream",
     "text": [
      "<ipython-input-56-469bf650dd3f>:2: SettingWithCopyWarning: \n",
      "A value is trying to be set on a copy of a slice from a DataFrame.\n",
      "Try using .loc[row_indexer,col_indexer] = value instead\n",
      "\n",
      "See the caveats in the documentation: https://pandas.pydata.org/pandas-docs/stable/user_guide/indexing.html#returning-a-view-versus-a-copy\n",
      "  genres['g1']= splitgenres[0]\n",
      "<ipython-input-56-469bf650dd3f>:3: SettingWithCopyWarning: \n",
      "A value is trying to be set on a copy of a slice from a DataFrame.\n",
      "Try using .loc[row_indexer,col_indexer] = value instead\n",
      "\n",
      "See the caveats in the documentation: https://pandas.pydata.org/pandas-docs/stable/user_guide/indexing.html#returning-a-view-versus-a-copy\n",
      "  genres['g2']= splitgenres[1]\n",
      "<ipython-input-56-469bf650dd3f>:4: SettingWithCopyWarning: \n",
      "A value is trying to be set on a copy of a slice from a DataFrame.\n",
      "Try using .loc[row_indexer,col_indexer] = value instead\n",
      "\n",
      "See the caveats in the documentation: https://pandas.pydata.org/pandas-docs/stable/user_guide/indexing.html#returning-a-view-versus-a-copy\n",
      "  genres['g3']= splitgenres[2]\n"
     ]
    },
    {
     "data": {
      "text/html": [
       "<div>\n",
       "<style scoped>\n",
       "    .dataframe tbody tr th:only-of-type {\n",
       "        vertical-align: middle;\n",
       "    }\n",
       "\n",
       "    .dataframe tbody tr th {\n",
       "        vertical-align: top;\n",
       "    }\n",
       "\n",
       "    .dataframe thead th {\n",
       "        text-align: right;\n",
       "    }\n",
       "</style>\n",
       "<table border=\"1\" class=\"dataframe\">\n",
       "  <thead>\n",
       "    <tr style=\"text-align: right;\">\n",
       "      <th></th>\n",
       "      <th>genres</th>\n",
       "      <th>averageRating</th>\n",
       "      <th>numVotes</th>\n",
       "      <th>g1</th>\n",
       "      <th>g2</th>\n",
       "      <th>g3</th>\n",
       "    </tr>\n",
       "  </thead>\n",
       "  <tbody>\n",
       "    <tr>\n",
       "      <th>0</th>\n",
       "      <td>Drama</td>\n",
       "      <td>6.3</td>\n",
       "      <td>150.0</td>\n",
       "      <td>Drama</td>\n",
       "      <td>None</td>\n",
       "      <td>None</td>\n",
       "    </tr>\n",
       "    <tr>\n",
       "      <th>1</th>\n",
       "      <td>Documentary</td>\n",
       "      <td>7.3</td>\n",
       "      <td>11.0</td>\n",
       "      <td>Documentary</td>\n",
       "      <td>None</td>\n",
       "      <td>None</td>\n",
       "    </tr>\n",
       "    <tr>\n",
       "      <th>2</th>\n",
       "      <td>Horror,Music,Thriller</td>\n",
       "      <td>3.3</td>\n",
       "      <td>770.0</td>\n",
       "      <td>Horror</td>\n",
       "      <td>Music</td>\n",
       "      <td>Thriller</td>\n",
       "    </tr>\n",
       "    <tr>\n",
       "      <th>5</th>\n",
       "      <td>Action,Adventure,Fantasy</td>\n",
       "      <td>6.1</td>\n",
       "      <td>138331.0</td>\n",
       "      <td>Action</td>\n",
       "      <td>Adventure</td>\n",
       "      <td>Fantasy</td>\n",
       "    </tr>\n",
       "    <tr>\n",
       "      <th>11</th>\n",
       "      <td>Documentary</td>\n",
       "      <td>6.6</td>\n",
       "      <td>8.0</td>\n",
       "      <td>Documentary</td>\n",
       "      <td>None</td>\n",
       "      <td>None</td>\n",
       "    </tr>\n",
       "    <tr>\n",
       "      <th>...</th>\n",
       "      <td>...</td>\n",
       "      <td>...</td>\n",
       "      <td>...</td>\n",
       "      <td>...</td>\n",
       "      <td>...</td>\n",
       "      <td>...</td>\n",
       "    </tr>\n",
       "    <tr>\n",
       "      <th>16392</th>\n",
       "      <td>War</td>\n",
       "      <td>4.5</td>\n",
       "      <td>1386.0</td>\n",
       "      <td>War</td>\n",
       "      <td>None</td>\n",
       "      <td>None</td>\n",
       "    </tr>\n",
       "    <tr>\n",
       "      <th>16393</th>\n",
       "      <td>Horror</td>\n",
       "      <td>5.9</td>\n",
       "      <td>194.0</td>\n",
       "      <td>Horror</td>\n",
       "      <td>None</td>\n",
       "      <td>None</td>\n",
       "    </tr>\n",
       "    <tr>\n",
       "      <th>16396</th>\n",
       "      <td>Comedy,Drama</td>\n",
       "      <td>7.6</td>\n",
       "      <td>3161.0</td>\n",
       "      <td>Comedy</td>\n",
       "      <td>Drama</td>\n",
       "      <td>None</td>\n",
       "    </tr>\n",
       "    <tr>\n",
       "      <th>16398</th>\n",
       "      <td>Action,Adventure,Thriller</td>\n",
       "      <td>3.6</td>\n",
       "      <td>222.0</td>\n",
       "      <td>Action</td>\n",
       "      <td>Adventure</td>\n",
       "      <td>Thriller</td>\n",
       "    </tr>\n",
       "    <tr>\n",
       "      <th>16399</th>\n",
       "      <td>Adventure,Drama,History</td>\n",
       "      <td>6.4</td>\n",
       "      <td>3864.0</td>\n",
       "      <td>Adventure</td>\n",
       "      <td>Drama</td>\n",
       "      <td>History</td>\n",
       "    </tr>\n",
       "  </tbody>\n",
       "</table>\n",
       "<p>7584 rows × 6 columns</p>\n",
       "</div>"
      ],
      "text/plain": [
       "                          genres  averageRating  numVotes           g1  \\\n",
       "0                          Drama            6.3     150.0        Drama   \n",
       "1                    Documentary            7.3      11.0  Documentary   \n",
       "2          Horror,Music,Thriller            3.3     770.0       Horror   \n",
       "5       Action,Adventure,Fantasy            6.1  138331.0       Action   \n",
       "11                   Documentary            6.6       8.0  Documentary   \n",
       "...                          ...            ...       ...          ...   \n",
       "16392                        War            4.5    1386.0          War   \n",
       "16393                     Horror            5.9     194.0       Horror   \n",
       "16396               Comedy,Drama            7.6    3161.0       Comedy   \n",
       "16398  Action,Adventure,Thriller            3.6     222.0       Action   \n",
       "16399    Adventure,Drama,History            6.4    3864.0    Adventure   \n",
       "\n",
       "              g2        g3  \n",
       "0           None      None  \n",
       "1           None      None  \n",
       "2          Music  Thriller  \n",
       "5      Adventure   Fantasy  \n",
       "11          None      None  \n",
       "...          ...       ...  \n",
       "16392       None      None  \n",
       "16393       None      None  \n",
       "16396      Drama      None  \n",
       "16398  Adventure  Thriller  \n",
       "16399      Drama   History  \n",
       "\n",
       "[7584 rows x 6 columns]"
      ]
     },
     "execution_count": 56,
     "metadata": {},
     "output_type": "execute_result"
    }
   ],
   "source": [
    "splitgenres = genres['genres'].str.split(\",\", expand = True)\n",
    "genres['g1']= splitgenres[0]\n",
    "genres['g2']= splitgenres[1]\n",
    "genres['g3']= splitgenres[2]\n",
    "\n",
    "genres"
   ]
  },
  {
   "cell_type": "code",
   "execution_count": 57,
   "metadata": {
    "scrolled": false
   },
   "outputs": [],
   "source": [
    "#frankenstein merge because idk\n",
    "#split genre so each genre is associated with the movies' average rating and numVotes.\n",
    "#drop empty genre cells from g2 and g3\n",
    "g1 = genres[['averageRating', 'numVotes','g1']].dropna().rename(columns={'g1':'genre'})"
   ]
  },
  {
   "cell_type": "code",
   "execution_count": 58,
   "metadata": {},
   "outputs": [],
   "source": [
    "g2 = genres[['averageRating', 'numVotes','g2']].dropna().rename(columns={'g2':'genre'})"
   ]
  },
  {
   "cell_type": "code",
   "execution_count": 59,
   "metadata": {},
   "outputs": [],
   "source": [
    "g3 = genres[['averageRating', 'numVotes','g3']].dropna().rename(columns={'g3':'genre'})"
   ]
  },
  {
   "cell_type": "code",
   "execution_count": 60,
   "metadata": {},
   "outputs": [
    {
     "data": {
      "text/plain": [
       "False    12823\n",
       "Name: genre, dtype: int64"
      ]
     },
     "execution_count": 60,
     "metadata": {},
     "output_type": "execute_result"
    }
   ],
   "source": [
    "#create one table of ratings and genre \n",
    "genre_and_ratings = [g1, g2, g3]\n",
    "genre = pd.concat(genre_and_ratings)\n",
    "genre['genre'].isna().value_counts()"
   ]
  },
  {
   "cell_type": "code",
   "execution_count": 61,
   "metadata": {
    "scrolled": true
   },
   "outputs": [],
   "source": [
    "genre_counts = genre['genre'].value_counts()"
   ]
  },
  {
   "cell_type": "code",
   "execution_count": 62,
   "metadata": {},
   "outputs": [],
   "source": [
    "genre = genre[~genre['genre'].isin(genre_counts[genre_counts < 200].index)]\n",
    "top_10 = list(genre['genre'].value_counts().index[:10])"
   ]
  },
  {
   "cell_type": "code",
   "execution_count": 63,
   "metadata": {},
   "outputs": [],
   "source": [
    "rating = genre[['averageRating', 'genre']]"
   ]
  },
  {
   "cell_type": "markdown",
   "metadata": {},
   "source": [
    "#### Visual analysis - average ratings by genre"
   ]
  },
  {
   "cell_type": "code",
   "execution_count": 65,
   "metadata": {},
   "outputs": [
    {
     "data": {
      "text/plain": [
       "<seaborn.axisgrid.FacetGrid at 0x2e9da448220>"
      ]
     },
     "execution_count": 65,
     "metadata": {},
     "output_type": "execute_result"
    },
    {
     "data": {
      "image/png": "[encoded data removed]",
      "text/plain": [
       "<Figure size 720x360 with 1 Axes>"
      ]
     },
     "metadata": {},
     "output_type": "display_data"
    }
   ],
   "source": [
    "import seaborn as sns\n",
    "sns.set_theme(style = \"ticks\", color_codes = True)\n",
    "sns.catplot(x='genre', y='averageRating', data = rating, kind = \"box\", aspect=16/8)\n",
    "\n",
    "#Post-pandemic ratings show Documentaries\n",
    "#documentaries, overall had the btes ratings, along with animation, and drama \n",
    "# *note* 'biography' is commonly listed with drama and documentary. \n"
   ]
  },
  {
   "cell_type": "code",
   "execution_count": 66,
   "metadata": {},
   "outputs": [
    {
     "data": {
      "text/html": [
       "<div>\n",
       "<style scoped>\n",
       "    .dataframe tbody tr th:only-of-type {\n",
       "        vertical-align: middle;\n",
       "    }\n",
       "\n",
       "    .dataframe tbody tr th {\n",
       "        vertical-align: top;\n",
       "    }\n",
       "\n",
       "    .dataframe thead th {\n",
       "        text-align: right;\n",
       "    }\n",
       "</style>\n",
       "<table border=\"1\" class=\"dataframe\">\n",
       "  <thead>\n",
       "    <tr style=\"text-align: right;\">\n",
       "      <th></th>\n",
       "      <th>genres</th>\n",
       "      <th>averageRating</th>\n",
       "      <th>numVotes</th>\n",
       "      <th>g1</th>\n",
       "      <th>g2</th>\n",
       "      <th>g3</th>\n",
       "    </tr>\n",
       "  </thead>\n",
       "  <tbody>\n",
       "    <tr>\n",
       "      <th>282</th>\n",
       "      <td>Biography,Documentary</td>\n",
       "      <td>9.6</td>\n",
       "      <td>86.0</td>\n",
       "      <td>Biography</td>\n",
       "      <td>Documentary</td>\n",
       "      <td>None</td>\n",
       "    </tr>\n",
       "    <tr>\n",
       "      <th>405</th>\n",
       "      <td>Biography,Drama,History</td>\n",
       "      <td>6.3</td>\n",
       "      <td>263.0</td>\n",
       "      <td>Biography</td>\n",
       "      <td>Drama</td>\n",
       "      <td>History</td>\n",
       "    </tr>\n",
       "    <tr>\n",
       "      <th>414</th>\n",
       "      <td>Action,Biography,Drama</td>\n",
       "      <td>8.8</td>\n",
       "      <td>98066.0</td>\n",
       "      <td>Action</td>\n",
       "      <td>Biography</td>\n",
       "      <td>Drama</td>\n",
       "    </tr>\n",
       "    <tr>\n",
       "      <th>433</th>\n",
       "      <td>Biography,Crime,Drama</td>\n",
       "      <td>5.4</td>\n",
       "      <td>2797.0</td>\n",
       "      <td>Biography</td>\n",
       "      <td>Crime</td>\n",
       "      <td>Drama</td>\n",
       "    </tr>\n",
       "    <tr>\n",
       "      <th>515</th>\n",
       "      <td>Action,Biography,Drama</td>\n",
       "      <td>5.3</td>\n",
       "      <td>33685.0</td>\n",
       "      <td>Action</td>\n",
       "      <td>Biography</td>\n",
       "      <td>Drama</td>\n",
       "    </tr>\n",
       "    <tr>\n",
       "      <th>...</th>\n",
       "      <td>...</td>\n",
       "      <td>...</td>\n",
       "      <td>...</td>\n",
       "      <td>...</td>\n",
       "      <td>...</td>\n",
       "      <td>...</td>\n",
       "    </tr>\n",
       "    <tr>\n",
       "      <th>16292</th>\n",
       "      <td>Biography,Drama</td>\n",
       "      <td>7.7</td>\n",
       "      <td>1583.0</td>\n",
       "      <td>Biography</td>\n",
       "      <td>Drama</td>\n",
       "      <td>None</td>\n",
       "    </tr>\n",
       "    <tr>\n",
       "      <th>16297</th>\n",
       "      <td>Biography,Drama</td>\n",
       "      <td>4.3</td>\n",
       "      <td>33.0</td>\n",
       "      <td>Biography</td>\n",
       "      <td>Drama</td>\n",
       "      <td>None</td>\n",
       "    </tr>\n",
       "    <tr>\n",
       "      <th>16337</th>\n",
       "      <td>Biography,Documentary,Music</td>\n",
       "      <td>8.2</td>\n",
       "      <td>3856.0</td>\n",
       "      <td>Biography</td>\n",
       "      <td>Documentary</td>\n",
       "      <td>Music</td>\n",
       "    </tr>\n",
       "    <tr>\n",
       "      <th>16361</th>\n",
       "      <td>Biography,Comedy,Drama</td>\n",
       "      <td>6.9</td>\n",
       "      <td>2288.0</td>\n",
       "      <td>Biography</td>\n",
       "      <td>Comedy</td>\n",
       "      <td>Drama</td>\n",
       "    </tr>\n",
       "    <tr>\n",
       "      <th>16365</th>\n",
       "      <td>Biography,Documentary,Music</td>\n",
       "      <td>8.5</td>\n",
       "      <td>20.0</td>\n",
       "      <td>Biography</td>\n",
       "      <td>Documentary</td>\n",
       "      <td>Music</td>\n",
       "    </tr>\n",
       "  </tbody>\n",
       "</table>\n",
       "<p>227 rows × 6 columns</p>\n",
       "</div>"
      ],
      "text/plain": [
       "                            genres  averageRating  numVotes         g1  \\\n",
       "282          Biography,Documentary            9.6      86.0  Biography   \n",
       "405        Biography,Drama,History            6.3     263.0  Biography   \n",
       "414         Action,Biography,Drama            8.8   98066.0     Action   \n",
       "433          Biography,Crime,Drama            5.4    2797.0  Biography   \n",
       "515         Action,Biography,Drama            5.3   33685.0     Action   \n",
       "...                            ...            ...       ...        ...   \n",
       "16292              Biography,Drama            7.7    1583.0  Biography   \n",
       "16297              Biography,Drama            4.3      33.0  Biography   \n",
       "16337  Biography,Documentary,Music            8.2    3856.0  Biography   \n",
       "16361       Biography,Comedy,Drama            6.9    2288.0  Biography   \n",
       "16365  Biography,Documentary,Music            8.5      20.0  Biography   \n",
       "\n",
       "                g2       g3  \n",
       "282    Documentary     None  \n",
       "405          Drama  History  \n",
       "414      Biography    Drama  \n",
       "433          Crime    Drama  \n",
       "515      Biography    Drama  \n",
       "...            ...      ...  \n",
       "16292        Drama     None  \n",
       "16297        Drama     None  \n",
       "16337  Documentary    Music  \n",
       "16361       Comedy    Drama  \n",
       "16365  Documentary    Music  \n",
       "\n",
       "[227 rows x 6 columns]"
      ]
     },
     "execution_count": 66,
     "metadata": {},
     "output_type": "execute_result"
    }
   ],
   "source": [
    "bio = genres.loc[genres['genres'].str.contains('Biography')]\n",
    "bio"
   ]
  },
  {
   "cell_type": "code",
   "execution_count": 67,
   "metadata": {},
   "outputs": [
    {
     "data": {
      "text/plain": [
       "<seaborn.axisgrid.FacetGrid at 0x2e99f420c10>"
      ]
     },
     "execution_count": 67,
     "metadata": {},
     "output_type": "execute_result"
    },
    {
     "data": {
      "image/png": "[encoded data removed]",
      "text/plain": [
       "<Figure size 720x360 with 1 Axes>"
      ]
     },
     "metadata": {},
     "output_type": "display_data"
    }
   ],
   "source": [
    "votes = genre[['numVotes', 'genre']]\n",
    "sns.set_theme(style = \"ticks\", color_codes = True)\n",
    "sns.catplot(x='genre', y='numVotes', data = votes, aspect=16/8)"
   ]
  },
  {
   "cell_type": "markdown",
   "metadata": {},
   "source": [
    "## pre-pandemic data to see the relationship between genre and ratings"
   ]
  },
  {
   "cell_type": "code",
   "execution_count": 68,
   "metadata": {},
   "outputs": [],
   "source": [
    "#read historical basics\n",
    "old_title = pd.read_csv('zippedData/imdb.title.basics.csv.gz')\n",
    "old_ratings = pd.read_csv('zippedData/imdb.title.ratings.csv.gz')\n",
    "old_region = pd.read_csv('zippedData/imdb.title.akas.csv.gz')"
   ]
  },
  {
   "cell_type": "code",
   "execution_count": 69,
   "metadata": {},
   "outputs": [],
   "source": [
    "#merge title and ratings\n",
    "old = old_title.set_index('tconst').join(old_ratings.set_index('tconst'), how='left')"
   ]
  },
  {
   "cell_type": "code",
   "execution_count": 70,
   "metadata": {},
   "outputs": [],
   "source": [
    "#join merged with region \n",
    "old = old.join(old_region.set_index('title_id'), how='left')"
   ]
  },
  {
   "cell_type": "code",
   "execution_count": 71,
   "metadata": {},
   "outputs": [
    {
     "data": {
      "text/html": [
       "<div>\n",
       "<style scoped>\n",
       "    .dataframe tbody tr th:only-of-type {\n",
       "        vertical-align: middle;\n",
       "    }\n",
       "\n",
       "    .dataframe tbody tr th {\n",
       "        vertical-align: top;\n",
       "    }\n",
       "\n",
       "    .dataframe thead th {\n",
       "        text-align: right;\n",
       "    }\n",
       "</style>\n",
       "<table border=\"1\" class=\"dataframe\">\n",
       "  <thead>\n",
       "    <tr style=\"text-align: right;\">\n",
       "      <th></th>\n",
       "      <th>primary_title</th>\n",
       "      <th>original_title</th>\n",
       "      <th>start_year</th>\n",
       "      <th>runtime_minutes</th>\n",
       "      <th>genres</th>\n",
       "      <th>averagerating</th>\n",
       "      <th>numvotes</th>\n",
       "      <th>ordering</th>\n",
       "      <th>title</th>\n",
       "      <th>region</th>\n",
       "      <th>language</th>\n",
       "      <th>types</th>\n",
       "      <th>attributes</th>\n",
       "      <th>is_original_title</th>\n",
       "    </tr>\n",
       "  </thead>\n",
       "  <tbody>\n",
       "    <tr>\n",
       "      <th>tt0063540</th>\n",
       "      <td>Sunghursh</td>\n",
       "      <td>Sunghursh</td>\n",
       "      <td>2013</td>\n",
       "      <td>175.0</td>\n",
       "      <td>Action,Crime,Drama</td>\n",
       "      <td>7.0</td>\n",
       "      <td>77.0</td>\n",
       "      <td>1.0</td>\n",
       "      <td>Sangharsh</td>\n",
       "      <td>IN</td>\n",
       "      <td>hi</td>\n",
       "      <td>NaN</td>\n",
       "      <td>alternative transliteration</td>\n",
       "      <td>0.0</td>\n",
       "    </tr>\n",
       "    <tr>\n",
       "      <th>tt0063540</th>\n",
       "      <td>Sunghursh</td>\n",
       "      <td>Sunghursh</td>\n",
       "      <td>2013</td>\n",
       "      <td>175.0</td>\n",
       "      <td>Action,Crime,Drama</td>\n",
       "      <td>7.0</td>\n",
       "      <td>77.0</td>\n",
       "      <td>2.0</td>\n",
       "      <td>Sunghursh</td>\n",
       "      <td>NaN</td>\n",
       "      <td>NaN</td>\n",
       "      <td>original</td>\n",
       "      <td>NaN</td>\n",
       "      <td>1.0</td>\n",
       "    </tr>\n",
       "  </tbody>\n",
       "</table>\n",
       "</div>"
      ],
      "text/plain": [
       "          primary_title original_title  start_year  runtime_minutes  \\\n",
       "tt0063540     Sunghursh      Sunghursh        2013            175.0   \n",
       "tt0063540     Sunghursh      Sunghursh        2013            175.0   \n",
       "\n",
       "                       genres  averagerating  numvotes  ordering      title  \\\n",
       "tt0063540  Action,Crime,Drama            7.0      77.0       1.0  Sangharsh   \n",
       "tt0063540  Action,Crime,Drama            7.0      77.0       2.0  Sunghursh   \n",
       "\n",
       "          region language     types                   attributes  \\\n",
       "tt0063540     IN       hi       NaN  alternative transliteration   \n",
       "tt0063540    NaN      NaN  original                          NaN   \n",
       "\n",
       "           is_original_title  \n",
       "tt0063540                0.0  \n",
       "tt0063540                1.0  "
      ]
     },
     "execution_count": 71,
     "metadata": {},
     "output_type": "execute_result"
    }
   ],
   "source": [
    "old.head(2)"
   ]
  },
  {
   "cell_type": "code",
   "execution_count": 72,
   "metadata": {
    "scrolled": true
   },
   "outputs": [
    {
     "data": {
      "text/html": [
       "<div>\n",
       "<style scoped>\n",
       "    .dataframe tbody tr th:only-of-type {\n",
       "        vertical-align: middle;\n",
       "    }\n",
       "\n",
       "    .dataframe tbody tr th {\n",
       "        vertical-align: top;\n",
       "    }\n",
       "\n",
       "    .dataframe thead th {\n",
       "        text-align: right;\n",
       "    }\n",
       "</style>\n",
       "<table border=\"1\" class=\"dataframe\">\n",
       "  <thead>\n",
       "    <tr style=\"text-align: right;\">\n",
       "      <th></th>\n",
       "      <th>primary_title</th>\n",
       "      <th>original_title</th>\n",
       "      <th>start_year</th>\n",
       "      <th>runtime_minutes</th>\n",
       "      <th>genres</th>\n",
       "      <th>averagerating</th>\n",
       "      <th>numvotes</th>\n",
       "      <th>ordering</th>\n",
       "      <th>title</th>\n",
       "      <th>region</th>\n",
       "      <th>language</th>\n",
       "      <th>types</th>\n",
       "      <th>attributes</th>\n",
       "      <th>is_original_title</th>\n",
       "    </tr>\n",
       "  </thead>\n",
       "  <tbody>\n",
       "    <tr>\n",
       "      <th>tt9916730</th>\n",
       "      <td>6 Gunn</td>\n",
       "      <td>6 Gunn</td>\n",
       "      <td>2017</td>\n",
       "      <td>116.0</td>\n",
       "      <td>NaN</td>\n",
       "      <td>NaN</td>\n",
       "      <td>NaN</td>\n",
       "      <td>NaN</td>\n",
       "      <td>NaN</td>\n",
       "      <td>NaN</td>\n",
       "      <td>NaN</td>\n",
       "      <td>NaN</td>\n",
       "      <td>NaN</td>\n",
       "      <td>NaN</td>\n",
       "    </tr>\n",
       "    <tr>\n",
       "      <th>tt9916754</th>\n",
       "      <td>Chico Albuquerque - Revelações</td>\n",
       "      <td>Chico Albuquerque - Revelações</td>\n",
       "      <td>2013</td>\n",
       "      <td>NaN</td>\n",
       "      <td>Documentary</td>\n",
       "      <td>NaN</td>\n",
       "      <td>NaN</td>\n",
       "      <td>NaN</td>\n",
       "      <td>NaN</td>\n",
       "      <td>NaN</td>\n",
       "      <td>NaN</td>\n",
       "      <td>NaN</td>\n",
       "      <td>NaN</td>\n",
       "      <td>NaN</td>\n",
       "    </tr>\n",
       "  </tbody>\n",
       "</table>\n",
       "</div>"
      ],
      "text/plain": [
       "                            primary_title                  original_title  \\\n",
       "tt9916730                          6 Gunn                          6 Gunn   \n",
       "tt9916754  Chico Albuquerque - Revelações  Chico Albuquerque - Revelações   \n",
       "\n",
       "           start_year  runtime_minutes       genres  averagerating  numvotes  \\\n",
       "tt9916730        2017            116.0          NaN            NaN       NaN   \n",
       "tt9916754        2013              NaN  Documentary            NaN       NaN   \n",
       "\n",
       "           ordering title region language types attributes  is_original_title  \n",
       "tt9916730       NaN   NaN    NaN      NaN   NaN        NaN                NaN  \n",
       "tt9916754       NaN   NaN    NaN      NaN   NaN        NaN                NaN  "
      ]
     },
     "execution_count": 72,
     "metadata": {},
     "output_type": "execute_result"
    }
   ],
   "source": [
    "old.tail(2)"
   ]
  },
  {
   "cell_type": "code",
   "execution_count": 73,
   "metadata": {},
   "outputs": [],
   "source": [
    "#filter for only US markets\n",
    "old = old[old['region']=='US']"
   ]
  },
  {
   "cell_type": "code",
   "execution_count": 74,
   "metadata": {},
   "outputs": [],
   "source": [
    "old = old.reset_index().rename(columns = {'index':'tconst'})"
   ]
  },
  {
   "cell_type": "code",
   "execution_count": 75,
   "metadata": {},
   "outputs": [
    {
     "name": "stdout",
     "output_type": "stream",
     "text": [
      "<class 'pandas.core.frame.DataFrame'>\n",
      "RangeIndex: 51490 entries, 0 to 51489\n",
      "Data columns (total 15 columns):\n",
      " #   Column             Non-Null Count  Dtype  \n",
      "---  ------             --------------  -----  \n",
      " 0   tconst             51490 non-null  object \n",
      " 1   primary_title      51490 non-null  object \n",
      " 2   original_title     51489 non-null  object \n",
      " 3   start_year         51490 non-null  int64  \n",
      " 4   runtime_minutes    43393 non-null  float64\n",
      " 5   genres             50874 non-null  object \n",
      " 6   averagerating      30194 non-null  float64\n",
      " 7   numvotes           30194 non-null  float64\n",
      " 8   ordering           51490 non-null  float64\n",
      " 9   title              51490 non-null  object \n",
      " 10  region             51490 non-null  object \n",
      " 11  language           548 non-null    object \n",
      " 12  types              6701 non-null   object \n",
      " 13  attributes         2458 non-null   object \n",
      " 14  is_original_title  51485 non-null  float64\n",
      "dtypes: float64(5), int64(1), object(9)\n",
      "memory usage: 5.9+ MB\n"
     ]
    }
   ],
   "source": [
    "old.info()"
   ]
  },
  {
   "cell_type": "code",
   "execution_count": 76,
   "metadata": {},
   "outputs": [],
   "source": [
    "#drop duplicate movies \n",
    "old = old.drop_duplicates(subset=['tconst'], keep='first')"
   ]
  },
  {
   "cell_type": "code",
   "execution_count": 77,
   "metadata": {},
   "outputs": [
    {
     "data": {
      "text/plain": [
       "(47433, 15)"
      ]
     },
     "execution_count": 77,
     "metadata": {},
     "output_type": "execute_result"
    }
   ],
   "source": [
    "old.shape"
   ]
  },
  {
   "cell_type": "code",
   "execution_count": 78,
   "metadata": {},
   "outputs": [
    {
     "data": {
      "text/plain": [
       "2010    4520\n",
       "2011    4860\n",
       "2012    5154\n",
       "2013    5435\n",
       "2014    5609\n",
       "2015    5479\n",
       "2016    5816\n",
       "2017    5435\n",
       "2018    3559\n",
       "2019    1376\n",
       "2020     149\n",
       "2021      29\n",
       "2022       7\n",
       "2023       2\n",
       "2024       1\n",
       "2025       1\n",
       "2027       1\n",
       "Name: start_year, dtype: int64"
      ]
     },
     "execution_count": 78,
     "metadata": {},
     "output_type": "execute_result"
    }
   ],
   "source": [
    "old['start_year'].value_counts().sort_index()"
   ]
  },
  {
   "cell_type": "code",
   "execution_count": 79,
   "metadata": {},
   "outputs": [
    {
     "name": "stdout",
     "output_type": "stream",
     "text": [
      "<class 'pandas.core.frame.DataFrame'>\n",
      "Int64Index: 47433 entries, 0 to 51489\n",
      "Data columns (total 15 columns):\n",
      " #   Column             Non-Null Count  Dtype  \n",
      "---  ------             --------------  -----  \n",
      " 0   tconst             47433 non-null  object \n",
      " 1   primary_title      47433 non-null  object \n",
      " 2   original_title     47432 non-null  object \n",
      " 3   start_year         47433 non-null  int64  \n",
      " 4   runtime_minutes    39673 non-null  float64\n",
      " 5   genres             46840 non-null  object \n",
      " 6   averagerating      26654 non-null  float64\n",
      " 7   numvotes           26654 non-null  float64\n",
      " 8   ordering           47433 non-null  float64\n",
      " 9   title              47433 non-null  object \n",
      " 10  region             47433 non-null  object \n",
      " 11  language           325 non-null    object \n",
      " 12  types              4977 non-null   object \n",
      " 13  attributes         1652 non-null   object \n",
      " 14  is_original_title  47428 non-null  float64\n",
      "dtypes: float64(5), int64(1), object(9)\n",
      "memory usage: 5.8+ MB\n"
     ]
    }
   ],
   "source": [
    "old.info()"
   ]
  },
  {
   "cell_type": "code",
   "execution_count": 80,
   "metadata": {},
   "outputs": [
    {
     "data": {
      "text/plain": [
       "2017    5435\n",
       "2018    3559\n",
       "2019    1376\n",
       "Name: start_year, dtype: int64"
      ]
     },
     "execution_count": 80,
     "metadata": {},
     "output_type": "execute_result"
    }
   ],
   "source": [
    "#keep data from the past two years\n",
    "old = old[(old['start_year'] > 2016) & (old['start_year'] < 2020)]\n",
    "old['start_year'].value_counts()"
   ]
  },
  {
   "cell_type": "code",
   "execution_count": 81,
   "metadata": {},
   "outputs": [
    {
     "data": {
      "text/plain": [
       "(10370, 15)"
      ]
     },
     "execution_count": 81,
     "metadata": {},
     "output_type": "execute_result"
    }
   ],
   "source": [
    "old.shape"
   ]
  },
  {
   "cell_type": "code",
   "execution_count": 82,
   "metadata": {},
   "outputs": [],
   "source": [
    "oldgenres = old[['genres','averagerating']]"
   ]
  },
  {
   "cell_type": "code",
   "execution_count": 83,
   "metadata": {},
   "outputs": [
    {
     "data": {
      "text/plain": [
       "122"
      ]
     },
     "execution_count": 83,
     "metadata": {},
     "output_type": "execute_result"
    }
   ],
   "source": [
    "oldgenres['genres'].isna().sum()"
   ]
  },
  {
   "cell_type": "code",
   "execution_count": 84,
   "metadata": {},
   "outputs": [
    {
     "name": "stderr",
     "output_type": "stream",
     "text": [
      "<ipython-input-84-58fbf8cf5807>:3: SettingWithCopyWarning: \n",
      "A value is trying to be set on a copy of a slice from a DataFrame.\n",
      "Try using .loc[row_indexer,col_indexer] = value instead\n",
      "\n",
      "See the caveats in the documentation: https://pandas.pydata.org/pandas-docs/stable/user_guide/indexing.html#returning-a-view-versus-a-copy\n",
      "  oldgenres['one']= split[0]\n",
      "<ipython-input-84-58fbf8cf5807>:4: SettingWithCopyWarning: \n",
      "A value is trying to be set on a copy of a slice from a DataFrame.\n",
      "Try using .loc[row_indexer,col_indexer] = value instead\n",
      "\n",
      "See the caveats in the documentation: https://pandas.pydata.org/pandas-docs/stable/user_guide/indexing.html#returning-a-view-versus-a-copy\n",
      "  oldgenres['two']= split[1]\n",
      "<ipython-input-84-58fbf8cf5807>:5: SettingWithCopyWarning: \n",
      "A value is trying to be set on a copy of a slice from a DataFrame.\n",
      "Try using .loc[row_indexer,col_indexer] = value instead\n",
      "\n",
      "See the caveats in the documentation: https://pandas.pydata.org/pandas-docs/stable/user_guide/indexing.html#returning-a-view-versus-a-copy\n",
      "  oldgenres['three']= split[2]\n"
     ]
    }
   ],
   "source": [
    "#split the genres\n",
    "split = oldgenres['genres'].str.split(\",\", expand = True)\n",
    "oldgenres['one']= split[0]\n",
    "oldgenres['two']= split[1]\n",
    "oldgenres['three']= split[2]"
   ]
  },
  {
   "cell_type": "code",
   "execution_count": 85,
   "metadata": {},
   "outputs": [
    {
     "data": {
      "text/plain": [
       "(10370, 5)"
      ]
     },
     "execution_count": 85,
     "metadata": {},
     "output_type": "execute_result"
    }
   ],
   "source": [
    "oldgenres.shape"
   ]
  },
  {
   "cell_type": "code",
   "execution_count": 86,
   "metadata": {},
   "outputs": [
    {
     "data": {
      "text/html": [
       "<div>\n",
       "<style scoped>\n",
       "    .dataframe tbody tr th:only-of-type {\n",
       "        vertical-align: middle;\n",
       "    }\n",
       "\n",
       "    .dataframe tbody tr th {\n",
       "        vertical-align: top;\n",
       "    }\n",
       "\n",
       "    .dataframe thead th {\n",
       "        text-align: right;\n",
       "    }\n",
       "</style>\n",
       "<table border=\"1\" class=\"dataframe\">\n",
       "  <thead>\n",
       "    <tr style=\"text-align: right;\">\n",
       "      <th></th>\n",
       "      <th>genres</th>\n",
       "      <th>averagerating</th>\n",
       "      <th>one</th>\n",
       "      <th>two</th>\n",
       "      <th>three</th>\n",
       "    </tr>\n",
       "  </thead>\n",
       "  <tbody>\n",
       "    <tr>\n",
       "      <th>0</th>\n",
       "      <td>Drama</td>\n",
       "      <td>6.9</td>\n",
       "      <td>Drama</td>\n",
       "      <td>None</td>\n",
       "      <td>None</td>\n",
       "    </tr>\n",
       "    <tr>\n",
       "      <th>1</th>\n",
       "      <td>Horror,Thriller</td>\n",
       "      <td>4.1</td>\n",
       "      <td>Horror</td>\n",
       "      <td>Thriller</td>\n",
       "      <td>None</td>\n",
       "    </tr>\n",
       "    <tr>\n",
       "      <th>3</th>\n",
       "      <td>Drama</td>\n",
       "      <td>4.0</td>\n",
       "      <td>Drama</td>\n",
       "      <td>None</td>\n",
       "      <td>None</td>\n",
       "    </tr>\n",
       "    <tr>\n",
       "      <th>27</th>\n",
       "      <td>Adventure,Animation,Comedy</td>\n",
       "      <td>5.0</td>\n",
       "      <td>Adventure</td>\n",
       "      <td>Animation</td>\n",
       "      <td>Comedy</td>\n",
       "    </tr>\n",
       "    <tr>\n",
       "      <th>31</th>\n",
       "      <td>Horror</td>\n",
       "      <td>5.6</td>\n",
       "      <td>Horror</td>\n",
       "      <td>None</td>\n",
       "      <td>None</td>\n",
       "    </tr>\n",
       "    <tr>\n",
       "      <th>...</th>\n",
       "      <td>...</td>\n",
       "      <td>...</td>\n",
       "      <td>...</td>\n",
       "      <td>...</td>\n",
       "      <td>...</td>\n",
       "    </tr>\n",
       "    <tr>\n",
       "      <th>51485</th>\n",
       "      <td>Adventure</td>\n",
       "      <td>NaN</td>\n",
       "      <td>Adventure</td>\n",
       "      <td>None</td>\n",
       "      <td>None</td>\n",
       "    </tr>\n",
       "    <tr>\n",
       "      <th>51486</th>\n",
       "      <td>Drama</td>\n",
       "      <td>7.2</td>\n",
       "      <td>Drama</td>\n",
       "      <td>None</td>\n",
       "      <td>None</td>\n",
       "    </tr>\n",
       "    <tr>\n",
       "      <th>51487</th>\n",
       "      <td>Comedy,Family,Fantasy</td>\n",
       "      <td>5.8</td>\n",
       "      <td>Comedy</td>\n",
       "      <td>Family</td>\n",
       "      <td>Fantasy</td>\n",
       "    </tr>\n",
       "    <tr>\n",
       "      <th>51488</th>\n",
       "      <td>Documentary</td>\n",
       "      <td>8.1</td>\n",
       "      <td>Documentary</td>\n",
       "      <td>None</td>\n",
       "      <td>None</td>\n",
       "    </tr>\n",
       "    <tr>\n",
       "      <th>51489</th>\n",
       "      <td>Documentary</td>\n",
       "      <td>NaN</td>\n",
       "      <td>Documentary</td>\n",
       "      <td>None</td>\n",
       "      <td>None</td>\n",
       "    </tr>\n",
       "  </tbody>\n",
       "</table>\n",
       "<p>10370 rows × 5 columns</p>\n",
       "</div>"
      ],
      "text/plain": [
       "                           genres  averagerating          one        two  \\\n",
       "0                           Drama            6.9        Drama       None   \n",
       "1                 Horror,Thriller            4.1       Horror   Thriller   \n",
       "3                           Drama            4.0        Drama       None   \n",
       "27     Adventure,Animation,Comedy            5.0    Adventure  Animation   \n",
       "31                         Horror            5.6       Horror       None   \n",
       "...                           ...            ...          ...        ...   \n",
       "51485                   Adventure            NaN    Adventure       None   \n",
       "51486                       Drama            7.2        Drama       None   \n",
       "51487       Comedy,Family,Fantasy            5.8       Comedy     Family   \n",
       "51488                 Documentary            8.1  Documentary       None   \n",
       "51489                 Documentary            NaN  Documentary       None   \n",
       "\n",
       "         three  \n",
       "0         None  \n",
       "1         None  \n",
       "3         None  \n",
       "27      Comedy  \n",
       "31        None  \n",
       "...        ...  \n",
       "51485     None  \n",
       "51486     None  \n",
       "51487  Fantasy  \n",
       "51488     None  \n",
       "51489     None  \n",
       "\n",
       "[10370 rows x 5 columns]"
      ]
     },
     "execution_count": 86,
     "metadata": {},
     "output_type": "execute_result"
    }
   ],
   "source": [
    "oldgenres"
   ]
  },
  {
   "cell_type": "code",
   "execution_count": 87,
   "metadata": {},
   "outputs": [],
   "source": [
    "o1 = oldgenres[['averagerating','one']].rename(columns={'one':'genre'})\n",
    "o2 = oldgenres[['averagerating','two']].rename(columns={'two':'genre'})\n",
    "o3 = oldgenres[['averagerating','three']].rename(columns={'three':'genre'})"
   ]
  },
  {
   "cell_type": "code",
   "execution_count": 88,
   "metadata": {},
   "outputs": [],
   "source": [
    "old_genres = [o1,o2,o3]"
   ]
  },
  {
   "cell_type": "code",
   "execution_count": 89,
   "metadata": {},
   "outputs": [
    {
     "data": {
      "text/html": [
       "<div>\n",
       "<style scoped>\n",
       "    .dataframe tbody tr th:only-of-type {\n",
       "        vertical-align: middle;\n",
       "    }\n",
       "\n",
       "    .dataframe tbody tr th {\n",
       "        vertical-align: top;\n",
       "    }\n",
       "\n",
       "    .dataframe thead th {\n",
       "        text-align: right;\n",
       "    }\n",
       "</style>\n",
       "<table border=\"1\" class=\"dataframe\">\n",
       "  <thead>\n",
       "    <tr style=\"text-align: right;\">\n",
       "      <th></th>\n",
       "      <th>averagerating</th>\n",
       "      <th>genre</th>\n",
       "    </tr>\n",
       "  </thead>\n",
       "  <tbody>\n",
       "    <tr>\n",
       "      <th>0</th>\n",
       "      <td>6.9</td>\n",
       "      <td>Drama</td>\n",
       "    </tr>\n",
       "    <tr>\n",
       "      <th>1</th>\n",
       "      <td>4.1</td>\n",
       "      <td>Horror</td>\n",
       "    </tr>\n",
       "    <tr>\n",
       "      <th>3</th>\n",
       "      <td>4.0</td>\n",
       "      <td>Drama</td>\n",
       "    </tr>\n",
       "    <tr>\n",
       "      <th>27</th>\n",
       "      <td>5.0</td>\n",
       "      <td>Adventure</td>\n",
       "    </tr>\n",
       "    <tr>\n",
       "      <th>31</th>\n",
       "      <td>5.6</td>\n",
       "      <td>Horror</td>\n",
       "    </tr>\n",
       "    <tr>\n",
       "      <th>...</th>\n",
       "      <td>...</td>\n",
       "      <td>...</td>\n",
       "    </tr>\n",
       "    <tr>\n",
       "      <th>51485</th>\n",
       "      <td>NaN</td>\n",
       "      <td>None</td>\n",
       "    </tr>\n",
       "    <tr>\n",
       "      <th>51486</th>\n",
       "      <td>7.2</td>\n",
       "      <td>None</td>\n",
       "    </tr>\n",
       "    <tr>\n",
       "      <th>51487</th>\n",
       "      <td>5.8</td>\n",
       "      <td>Fantasy</td>\n",
       "    </tr>\n",
       "    <tr>\n",
       "      <th>51488</th>\n",
       "      <td>8.1</td>\n",
       "      <td>None</td>\n",
       "    </tr>\n",
       "    <tr>\n",
       "      <th>51489</th>\n",
       "      <td>NaN</td>\n",
       "      <td>None</td>\n",
       "    </tr>\n",
       "  </tbody>\n",
       "</table>\n",
       "<p>31110 rows × 2 columns</p>\n",
       "</div>"
      ],
      "text/plain": [
       "       averagerating      genre\n",
       "0                6.9      Drama\n",
       "1                4.1     Horror\n",
       "3                4.0      Drama\n",
       "27               5.0  Adventure\n",
       "31               5.6     Horror\n",
       "...              ...        ...\n",
       "51485            NaN       None\n",
       "51486            7.2       None\n",
       "51487            5.8    Fantasy\n",
       "51488            8.1       None\n",
       "51489            NaN       None\n",
       "\n",
       "[31110 rows x 2 columns]"
      ]
     },
     "execution_count": 89,
     "metadata": {},
     "output_type": "execute_result"
    }
   ],
   "source": [
    "oldgenres = pd.concat(old_genres)\n",
    "oldgenres"
   ]
  },
  {
   "cell_type": "code",
   "execution_count": 90,
   "metadata": {},
   "outputs": [],
   "source": [
    "oldgenres = oldgenres.dropna(subset = ['averagerating', 'genre'])"
   ]
  },
  {
   "cell_type": "code",
   "execution_count": 91,
   "metadata": {},
   "outputs": [
    {
     "data": {
      "text/plain": [
       "(10401, 2)"
      ]
     },
     "execution_count": 91,
     "metadata": {},
     "output_type": "execute_result"
    }
   ],
   "source": [
    "oldgenres.shape"
   ]
  },
  {
   "cell_type": "code",
   "execution_count": 92,
   "metadata": {},
   "outputs": [],
   "source": [
    "old_counts = oldgenres['genre'].value_counts()"
   ]
  },
  {
   "cell_type": "code",
   "execution_count": 93,
   "metadata": {},
   "outputs": [],
   "source": [
    "old_genre = oldgenres[~oldgenres['genre'].isin(old_counts[old_counts < 200].index)]\n",
    "top = list(oldgenres['genre'].value_counts().index[:10])"
   ]
  },
  {
   "cell_type": "code",
   "execution_count": 94,
   "metadata": {},
   "outputs": [
    {
     "data": {
      "text/plain": [
       "<seaborn.axisgrid.FacetGrid at 0x2e97c7665b0>"
      ]
     },
     "execution_count": 94,
     "metadata": {},
     "output_type": "execute_result"
    },
    {
     "data": {
      "image/png": "[encoded data removed]",
      "text/plain": [
       "<Figure size 720x360 with 1 Axes>"
      ]
     },
     "metadata": {},
     "output_type": "display_data"
    }
   ],
   "source": [
    "sns.set_theme(style = \"ticks\", color_codes = True)\n",
    "sns.catplot(x='genre', y='averagerating', data = old_genre, kind = \"box\", aspect=16/8)\n",
    "\n",
    "#pre-pandemic ratings "
   ]
  },
  {
   "cell_type": "markdown",
   "metadata": {},
   "source": [
    "# budget"
   ]
  },
  {
   "cell_type": "code",
   "execution_count": 95,
   "metadata": {},
   "outputs": [],
   "source": [
    "budget = pd.read_csv('zippedData/tn.movie_budgets.csv.gz')"
   ]
  },
  {
   "cell_type": "code",
   "execution_count": 96,
   "metadata": {},
   "outputs": [
    {
     "data": {
      "text/html": [
       "<div>\n",
       "<style scoped>\n",
       "    .dataframe tbody tr th:only-of-type {\n",
       "        vertical-align: middle;\n",
       "    }\n",
       "\n",
       "    .dataframe tbody tr th {\n",
       "        vertical-align: top;\n",
       "    }\n",
       "\n",
       "    .dataframe thead th {\n",
       "        text-align: right;\n",
       "    }\n",
       "</style>\n",
       "<table border=\"1\" class=\"dataframe\">\n",
       "  <thead>\n",
       "    <tr style=\"text-align: right;\">\n",
       "      <th></th>\n",
       "      <th>id</th>\n",
       "      <th>release_date</th>\n",
       "      <th>movie</th>\n",
       "      <th>production_budget</th>\n",
       "      <th>domestic_gross</th>\n",
       "      <th>worldwide_gross</th>\n",
       "    </tr>\n",
       "  </thead>\n",
       "  <tbody>\n",
       "    <tr>\n",
       "      <th>0</th>\n",
       "      <td>1</td>\n",
       "      <td>Dec 18, 2009</td>\n",
       "      <td>Avatar</td>\n",
       "      <td>$425,000,000</td>\n",
       "      <td>$760,507,625</td>\n",
       "      <td>$2,776,345,279</td>\n",
       "    </tr>\n",
       "    <tr>\n",
       "      <th>1</th>\n",
       "      <td>2</td>\n",
       "      <td>May 20, 2011</td>\n",
       "      <td>Pirates of the Caribbean: On Stranger Tides</td>\n",
       "      <td>$410,600,000</td>\n",
       "      <td>$241,063,875</td>\n",
       "      <td>$1,045,663,875</td>\n",
       "    </tr>\n",
       "    <tr>\n",
       "      <th>2</th>\n",
       "      <td>3</td>\n",
       "      <td>Jun 7, 2019</td>\n",
       "      <td>Dark Phoenix</td>\n",
       "      <td>$350,000,000</td>\n",
       "      <td>$42,762,350</td>\n",
       "      <td>$149,762,350</td>\n",
       "    </tr>\n",
       "    <tr>\n",
       "      <th>3</th>\n",
       "      <td>4</td>\n",
       "      <td>May 1, 2015</td>\n",
       "      <td>Avengers: Age of Ultron</td>\n",
       "      <td>$330,600,000</td>\n",
       "      <td>$459,005,868</td>\n",
       "      <td>$1,403,013,963</td>\n",
       "    </tr>\n",
       "    <tr>\n",
       "      <th>4</th>\n",
       "      <td>5</td>\n",
       "      <td>Dec 15, 2017</td>\n",
       "      <td>Star Wars Ep. VIII: The Last Jedi</td>\n",
       "      <td>$317,000,000</td>\n",
       "      <td>$620,181,382</td>\n",
       "      <td>$1,316,721,747</td>\n",
       "    </tr>\n",
       "    <tr>\n",
       "      <th>...</th>\n",
       "      <td>...</td>\n",
       "      <td>...</td>\n",
       "      <td>...</td>\n",
       "      <td>...</td>\n",
       "      <td>...</td>\n",
       "      <td>...</td>\n",
       "    </tr>\n",
       "    <tr>\n",
       "      <th>5777</th>\n",
       "      <td>78</td>\n",
       "      <td>Dec 31, 2018</td>\n",
       "      <td>Red 11</td>\n",
       "      <td>$7,000</td>\n",
       "      <td>$0</td>\n",
       "      <td>$0</td>\n",
       "    </tr>\n",
       "    <tr>\n",
       "      <th>5778</th>\n",
       "      <td>79</td>\n",
       "      <td>Apr 2, 1999</td>\n",
       "      <td>Following</td>\n",
       "      <td>$6,000</td>\n",
       "      <td>$48,482</td>\n",
       "      <td>$240,495</td>\n",
       "    </tr>\n",
       "    <tr>\n",
       "      <th>5779</th>\n",
       "      <td>80</td>\n",
       "      <td>Jul 13, 2005</td>\n",
       "      <td>Return to the Land of Wonders</td>\n",
       "      <td>$5,000</td>\n",
       "      <td>$1,338</td>\n",
       "      <td>$1,338</td>\n",
       "    </tr>\n",
       "    <tr>\n",
       "      <th>5780</th>\n",
       "      <td>81</td>\n",
       "      <td>Sep 29, 2015</td>\n",
       "      <td>A Plague So Pleasant</td>\n",
       "      <td>$1,400</td>\n",
       "      <td>$0</td>\n",
       "      <td>$0</td>\n",
       "    </tr>\n",
       "    <tr>\n",
       "      <th>5781</th>\n",
       "      <td>82</td>\n",
       "      <td>Aug 5, 2005</td>\n",
       "      <td>My Date With Drew</td>\n",
       "      <td>$1,100</td>\n",
       "      <td>$181,041</td>\n",
       "      <td>$181,041</td>\n",
       "    </tr>\n",
       "  </tbody>\n",
       "</table>\n",
       "<p>5782 rows × 6 columns</p>\n",
       "</div>"
      ],
      "text/plain": [
       "      id  release_date                                        movie  \\\n",
       "0      1  Dec 18, 2009                                       Avatar   \n",
       "1      2  May 20, 2011  Pirates of the Caribbean: On Stranger Tides   \n",
       "2      3   Jun 7, 2019                                 Dark Phoenix   \n",
       "3      4   May 1, 2015                      Avengers: Age of Ultron   \n",
       "4      5  Dec 15, 2017            Star Wars Ep. VIII: The Last Jedi   \n",
       "...   ..           ...                                          ...   \n",
       "5777  78  Dec 31, 2018                                       Red 11   \n",
       "5778  79   Apr 2, 1999                                    Following   \n",
       "5779  80  Jul 13, 2005                Return to the Land of Wonders   \n",
       "5780  81  Sep 29, 2015                         A Plague So Pleasant   \n",
       "5781  82   Aug 5, 2005                            My Date With Drew   \n",
       "\n",
       "     production_budget domestic_gross worldwide_gross  \n",
       "0         $425,000,000   $760,507,625  $2,776,345,279  \n",
       "1         $410,600,000   $241,063,875  $1,045,663,875  \n",
       "2         $350,000,000    $42,762,350    $149,762,350  \n",
       "3         $330,600,000   $459,005,868  $1,403,013,963  \n",
       "4         $317,000,000   $620,181,382  $1,316,721,747  \n",
       "...                ...            ...             ...  \n",
       "5777            $7,000             $0              $0  \n",
       "5778            $6,000        $48,482        $240,495  \n",
       "5779            $5,000         $1,338          $1,338  \n",
       "5780            $1,400             $0              $0  \n",
       "5781            $1,100       $181,041        $181,041  \n",
       "\n",
       "[5782 rows x 6 columns]"
      ]
     },
     "execution_count": 96,
     "metadata": {},
     "output_type": "execute_result"
    }
   ],
   "source": [
    "budget"
   ]
  },
  {
   "cell_type": "code",
   "execution_count": 97,
   "metadata": {},
   "outputs": [
    {
     "name": "stdout",
     "output_type": "stream",
     "text": [
      "<class 'pandas.core.frame.DataFrame'>\n",
      "RangeIndex: 5782 entries, 0 to 5781\n",
      "Data columns (total 6 columns):\n",
      " #   Column             Non-Null Count  Dtype \n",
      "---  ------             --------------  ----- \n",
      " 0   id                 5782 non-null   int64 \n",
      " 1   release_date       5782 non-null   object\n",
      " 2   movie              5782 non-null   object\n",
      " 3   production_budget  5782 non-null   object\n",
      " 4   domestic_gross     5782 non-null   object\n",
      " 5   worldwide_gross    5782 non-null   object\n",
      "dtypes: int64(1), object(5)\n",
      "memory usage: 271.2+ KB\n"
     ]
    }
   ],
   "source": [
    "budget.info()\n",
    "#slice date to only year & make int\n",
    "#remove commas and $ from amounts convert to int"
   ]
  },
  {
   "cell_type": "code",
   "execution_count": 98,
   "metadata": {},
   "outputs": [
    {
     "data": {
      "text/html": [
       "<div>\n",
       "<style scoped>\n",
       "    .dataframe tbody tr th:only-of-type {\n",
       "        vertical-align: middle;\n",
       "    }\n",
       "\n",
       "    .dataframe tbody tr th {\n",
       "        vertical-align: top;\n",
       "    }\n",
       "\n",
       "    .dataframe thead th {\n",
       "        text-align: right;\n",
       "    }\n",
       "</style>\n",
       "<table border=\"1\" class=\"dataframe\">\n",
       "  <thead>\n",
       "    <tr style=\"text-align: right;\">\n",
       "      <th></th>\n",
       "      <th>id</th>\n",
       "      <th>release_date</th>\n",
       "      <th>movie</th>\n",
       "      <th>production_budget</th>\n",
       "      <th>domestic_gross</th>\n",
       "      <th>worldwide_gross</th>\n",
       "    </tr>\n",
       "  </thead>\n",
       "  <tbody>\n",
       "    <tr>\n",
       "      <th>0</th>\n",
       "      <td>1</td>\n",
       "      <td>2009</td>\n",
       "      <td>Avatar</td>\n",
       "      <td>$425,000,000</td>\n",
       "      <td>$760,507,625</td>\n",
       "      <td>$2,776,345,279</td>\n",
       "    </tr>\n",
       "    <tr>\n",
       "      <th>1</th>\n",
       "      <td>2</td>\n",
       "      <td>2011</td>\n",
       "      <td>Pirates of the Caribbean: On Stranger Tides</td>\n",
       "      <td>$410,600,000</td>\n",
       "      <td>$241,063,875</td>\n",
       "      <td>$1,045,663,875</td>\n",
       "    </tr>\n",
       "    <tr>\n",
       "      <th>2</th>\n",
       "      <td>3</td>\n",
       "      <td>2019</td>\n",
       "      <td>Dark Phoenix</td>\n",
       "      <td>$350,000,000</td>\n",
       "      <td>$42,762,350</td>\n",
       "      <td>$149,762,350</td>\n",
       "    </tr>\n",
       "    <tr>\n",
       "      <th>3</th>\n",
       "      <td>4</td>\n",
       "      <td>2015</td>\n",
       "      <td>Avengers: Age of Ultron</td>\n",
       "      <td>$330,600,000</td>\n",
       "      <td>$459,005,868</td>\n",
       "      <td>$1,403,013,963</td>\n",
       "    </tr>\n",
       "    <tr>\n",
       "      <th>4</th>\n",
       "      <td>5</td>\n",
       "      <td>2017</td>\n",
       "      <td>Star Wars Ep. VIII: The Last Jedi</td>\n",
       "      <td>$317,000,000</td>\n",
       "      <td>$620,181,382</td>\n",
       "      <td>$1,316,721,747</td>\n",
       "    </tr>\n",
       "    <tr>\n",
       "      <th>...</th>\n",
       "      <td>...</td>\n",
       "      <td>...</td>\n",
       "      <td>...</td>\n",
       "      <td>...</td>\n",
       "      <td>...</td>\n",
       "      <td>...</td>\n",
       "    </tr>\n",
       "    <tr>\n",
       "      <th>5777</th>\n",
       "      <td>78</td>\n",
       "      <td>2018</td>\n",
       "      <td>Red 11</td>\n",
       "      <td>$7,000</td>\n",
       "      <td>$0</td>\n",
       "      <td>$0</td>\n",
       "    </tr>\n",
       "    <tr>\n",
       "      <th>5778</th>\n",
       "      <td>79</td>\n",
       "      <td>1999</td>\n",
       "      <td>Following</td>\n",
       "      <td>$6,000</td>\n",
       "      <td>$48,482</td>\n",
       "      <td>$240,495</td>\n",
       "    </tr>\n",
       "    <tr>\n",
       "      <th>5779</th>\n",
       "      <td>80</td>\n",
       "      <td>2005</td>\n",
       "      <td>Return to the Land of Wonders</td>\n",
       "      <td>$5,000</td>\n",
       "      <td>$1,338</td>\n",
       "      <td>$1,338</td>\n",
       "    </tr>\n",
       "    <tr>\n",
       "      <th>5780</th>\n",
       "      <td>81</td>\n",
       "      <td>2015</td>\n",
       "      <td>A Plague So Pleasant</td>\n",
       "      <td>$1,400</td>\n",
       "      <td>$0</td>\n",
       "      <td>$0</td>\n",
       "    </tr>\n",
       "    <tr>\n",
       "      <th>5781</th>\n",
       "      <td>82</td>\n",
       "      <td>2005</td>\n",
       "      <td>My Date With Drew</td>\n",
       "      <td>$1,100</td>\n",
       "      <td>$181,041</td>\n",
       "      <td>$181,041</td>\n",
       "    </tr>\n",
       "  </tbody>\n",
       "</table>\n",
       "<p>5782 rows × 6 columns</p>\n",
       "</div>"
      ],
      "text/plain": [
       "      id release_date                                        movie  \\\n",
       "0      1         2009                                       Avatar   \n",
       "1      2         2011  Pirates of the Caribbean: On Stranger Tides   \n",
       "2      3         2019                                 Dark Phoenix   \n",
       "3      4         2015                      Avengers: Age of Ultron   \n",
       "4      5         2017            Star Wars Ep. VIII: The Last Jedi   \n",
       "...   ..          ...                                          ...   \n",
       "5777  78         2018                                       Red 11   \n",
       "5778  79         1999                                    Following   \n",
       "5779  80         2005                Return to the Land of Wonders   \n",
       "5780  81         2015                         A Plague So Pleasant   \n",
       "5781  82         2005                            My Date With Drew   \n",
       "\n",
       "     production_budget domestic_gross worldwide_gross  \n",
       "0         $425,000,000   $760,507,625  $2,776,345,279  \n",
       "1         $410,600,000   $241,063,875  $1,045,663,875  \n",
       "2         $350,000,000    $42,762,350    $149,762,350  \n",
       "3         $330,600,000   $459,005,868  $1,403,013,963  \n",
       "4         $317,000,000   $620,181,382  $1,316,721,747  \n",
       "...                ...            ...             ...  \n",
       "5777            $7,000             $0              $0  \n",
       "5778            $6,000        $48,482        $240,495  \n",
       "5779            $5,000         $1,338          $1,338  \n",
       "5780            $1,400             $0              $0  \n",
       "5781            $1,100       $181,041        $181,041  \n",
       "\n",
       "[5782 rows x 6 columns]"
      ]
     },
     "execution_count": 98,
     "metadata": {},
     "output_type": "execute_result"
    }
   ],
   "source": [
    "budget['release_date'] = budget['release_date'].str[-4:]\n",
    "budget"
   ]
  },
  {
   "cell_type": "code",
   "execution_count": 99,
   "metadata": {},
   "outputs": [],
   "source": [
    "budget['production_budget'] = budget['production_budget'].map(lambda x: x.replace(\",\",\"\")).map(lambda x: x.replace(\"$\",\"\"))\n",
    "budget['domestic_gross'] = budget['domestic_gross'].map(lambda x: x.replace(\",\",\"\")).map(lambda x: x.replace(\"$\",\"\"))\n",
    "budget['worldwide_gross'] = budget['worldwide_gross'].map(lambda x: x.replace(\",\",\"\")).map(lambda x: x.replace(\"$\",\"\"))"
   ]
  },
  {
   "cell_type": "code",
   "execution_count": 100,
   "metadata": {},
   "outputs": [
    {
     "data": {
      "text/html": [
       "<div>\n",
       "<style scoped>\n",
       "    .dataframe tbody tr th:only-of-type {\n",
       "        vertical-align: middle;\n",
       "    }\n",
       "\n",
       "    .dataframe tbody tr th {\n",
       "        vertical-align: top;\n",
       "    }\n",
       "\n",
       "    .dataframe thead th {\n",
       "        text-align: right;\n",
       "    }\n",
       "</style>\n",
       "<table border=\"1\" class=\"dataframe\">\n",
       "  <thead>\n",
       "    <tr style=\"text-align: right;\">\n",
       "      <th></th>\n",
       "      <th>id</th>\n",
       "      <th>release_date</th>\n",
       "      <th>movie</th>\n",
       "      <th>production_budget</th>\n",
       "      <th>domestic_gross</th>\n",
       "      <th>worldwide_gross</th>\n",
       "    </tr>\n",
       "  </thead>\n",
       "  <tbody>\n",
       "    <tr>\n",
       "      <th>0</th>\n",
       "      <td>1</td>\n",
       "      <td>2009</td>\n",
       "      <td>Avatar</td>\n",
       "      <td>425000000</td>\n",
       "      <td>760507625</td>\n",
       "      <td>2776345279</td>\n",
       "    </tr>\n",
       "    <tr>\n",
       "      <th>1</th>\n",
       "      <td>2</td>\n",
       "      <td>2011</td>\n",
       "      <td>Pirates of the Caribbean: On Stranger Tides</td>\n",
       "      <td>410600000</td>\n",
       "      <td>241063875</td>\n",
       "      <td>1045663875</td>\n",
       "    </tr>\n",
       "    <tr>\n",
       "      <th>2</th>\n",
       "      <td>3</td>\n",
       "      <td>2019</td>\n",
       "      <td>Dark Phoenix</td>\n",
       "      <td>350000000</td>\n",
       "      <td>42762350</td>\n",
       "      <td>149762350</td>\n",
       "    </tr>\n",
       "    <tr>\n",
       "      <th>3</th>\n",
       "      <td>4</td>\n",
       "      <td>2015</td>\n",
       "      <td>Avengers: Age of Ultron</td>\n",
       "      <td>330600000</td>\n",
       "      <td>459005868</td>\n",
       "      <td>1403013963</td>\n",
       "    </tr>\n",
       "    <tr>\n",
       "      <th>4</th>\n",
       "      <td>5</td>\n",
       "      <td>2017</td>\n",
       "      <td>Star Wars Ep. VIII: The Last Jedi</td>\n",
       "      <td>317000000</td>\n",
       "      <td>620181382</td>\n",
       "      <td>1316721747</td>\n",
       "    </tr>\n",
       "    <tr>\n",
       "      <th>...</th>\n",
       "      <td>...</td>\n",
       "      <td>...</td>\n",
       "      <td>...</td>\n",
       "      <td>...</td>\n",
       "      <td>...</td>\n",
       "      <td>...</td>\n",
       "    </tr>\n",
       "    <tr>\n",
       "      <th>5777</th>\n",
       "      <td>78</td>\n",
       "      <td>2018</td>\n",
       "      <td>Red 11</td>\n",
       "      <td>7000</td>\n",
       "      <td>0</td>\n",
       "      <td>0</td>\n",
       "    </tr>\n",
       "    <tr>\n",
       "      <th>5778</th>\n",
       "      <td>79</td>\n",
       "      <td>1999</td>\n",
       "      <td>Following</td>\n",
       "      <td>6000</td>\n",
       "      <td>48482</td>\n",
       "      <td>240495</td>\n",
       "    </tr>\n",
       "    <tr>\n",
       "      <th>5779</th>\n",
       "      <td>80</td>\n",
       "      <td>2005</td>\n",
       "      <td>Return to the Land of Wonders</td>\n",
       "      <td>5000</td>\n",
       "      <td>1338</td>\n",
       "      <td>1338</td>\n",
       "    </tr>\n",
       "    <tr>\n",
       "      <th>5780</th>\n",
       "      <td>81</td>\n",
       "      <td>2015</td>\n",
       "      <td>A Plague So Pleasant</td>\n",
       "      <td>1400</td>\n",
       "      <td>0</td>\n",
       "      <td>0</td>\n",
       "    </tr>\n",
       "    <tr>\n",
       "      <th>5781</th>\n",
       "      <td>82</td>\n",
       "      <td>2005</td>\n",
       "      <td>My Date With Drew</td>\n",
       "      <td>1100</td>\n",
       "      <td>181041</td>\n",
       "      <td>181041</td>\n",
       "    </tr>\n",
       "  </tbody>\n",
       "</table>\n",
       "<p>5782 rows × 6 columns</p>\n",
       "</div>"
      ],
      "text/plain": [
       "      id release_date                                        movie  \\\n",
       "0      1         2009                                       Avatar   \n",
       "1      2         2011  Pirates of the Caribbean: On Stranger Tides   \n",
       "2      3         2019                                 Dark Phoenix   \n",
       "3      4         2015                      Avengers: Age of Ultron   \n",
       "4      5         2017            Star Wars Ep. VIII: The Last Jedi   \n",
       "...   ..          ...                                          ...   \n",
       "5777  78         2018                                       Red 11   \n",
       "5778  79         1999                                    Following   \n",
       "5779  80         2005                Return to the Land of Wonders   \n",
       "5780  81         2015                         A Plague So Pleasant   \n",
       "5781  82         2005                            My Date With Drew   \n",
       "\n",
       "     production_budget domestic_gross worldwide_gross  \n",
       "0            425000000      760507625      2776345279  \n",
       "1            410600000      241063875      1045663875  \n",
       "2            350000000       42762350       149762350  \n",
       "3            330600000      459005868      1403013963  \n",
       "4            317000000      620181382      1316721747  \n",
       "...                ...            ...             ...  \n",
       "5777              7000              0               0  \n",
       "5778              6000          48482          240495  \n",
       "5779              5000           1338            1338  \n",
       "5780              1400              0               0  \n",
       "5781              1100         181041          181041  \n",
       "\n",
       "[5782 rows x 6 columns]"
      ]
     },
     "execution_count": 100,
     "metadata": {},
     "output_type": "execute_result"
    }
   ],
   "source": [
    "budget"
   ]
  },
  {
   "cell_type": "code",
   "execution_count": 101,
   "metadata": {},
   "outputs": [],
   "source": [
    "#concatenate to create a mergeid\n",
    "budget['mergeid'] = budget['release_date'] +\" \" + budget['movie']"
   ]
  },
  {
   "cell_type": "code",
   "execution_count": 102,
   "metadata": {},
   "outputs": [],
   "source": [
    "#concatenate to create a mergeid\n",
    "old['mergeid'] = old['start_year'].astype(str) + \" \" + old['title']"
   ]
  },
  {
   "cell_type": "code",
   "execution_count": 103,
   "metadata": {},
   "outputs": [],
   "source": [
    "#cleanup mergeid to see if we can capture more connections\n",
    "budget['mergeid'] = budget['mergeid'].map(lambda x: x.replace(\" \",\"\")).map(lambda x: x.lower())\n",
    "budget['mergeid'] = budget['mergeid'].map(lambda x: x.replace(\":\",\"\")).map(lambda x: x.replace(\"&\",\"\"))\n",
    "budget['mergeid'] = budget['mergeid'].map(lambda x: x.replace(\".\",\"\"))"
   ]
  },
  {
   "cell_type": "code",
   "execution_count": 104,
   "metadata": {},
   "outputs": [],
   "source": [
    "old['mergeid'] = old['mergeid'].map(lambda x: x.replace(\" \",\"\")).map(lambda x: x.lower())\n",
    "old['mergeid'] = old['mergeid'].map(lambda x: x.replace(\":\",\"\")).map(lambda x: x.replace(\"&\",\"\"))\n",
    "old['mergeid'] = old['mergeid'].map(lambda x: x.replace(\".\",\"\"))"
   ]
  },
  {
   "cell_type": "code",
   "execution_count": 105,
   "metadata": {},
   "outputs": [],
   "source": [
    "#merge budget dataframe and oldmovie data frame together\n",
    "money_merge = old.set_index('mergeid').join(budget.set_index('mergeid'), how='left')"
   ]
  },
  {
   "cell_type": "code",
   "execution_count": 106,
   "metadata": {
    "scrolled": true
   },
   "outputs": [],
   "source": [
    "#rest the index\n",
    "money_merge = money_merge.reset_index()"
   ]
  },
  {
   "cell_type": "code",
   "execution_count": 107,
   "metadata": {},
   "outputs": [],
   "source": [
    "#drop values that do not contain budget information\n",
    "money_merge.dropna(subset=['production_budget'], inplace=True)"
   ]
  },
  {
   "cell_type": "markdown",
   "metadata": {},
   "source": [
    "association with genre and budget? "
   ]
  },
  {
   "cell_type": "code",
   "execution_count": 108,
   "metadata": {},
   "outputs": [],
   "source": [
    "#filtering columns\n",
    "money_merge = money_merge[['mergeid','genres','averagerating','production_budget', 'domestic_gross','worldwide_gross']]"
   ]
  },
  {
   "cell_type": "code",
   "execution_count": 109,
   "metadata": {},
   "outputs": [],
   "source": [
    "money_merge['genres'] = money_merge['genres'].map(lambda x: x.replace(\", \", \",\"))"
   ]
  },
  {
   "cell_type": "code",
   "execution_count": 110,
   "metadata": {},
   "outputs": [],
   "source": [
    "#split the genres\n",
    "gsplit = money_merge['genres'].str.split(\",\", expand = True)\n",
    "money_merge['one']= gsplit[0]\n",
    "money_merge['two']= gsplit[1]\n",
    "money_merge['three']= gsplit[2]"
   ]
  },
  {
   "cell_type": "code",
   "execution_count": 111,
   "metadata": {},
   "outputs": [
    {
     "data": {
      "text/html": [
       "<div>\n",
       "<style scoped>\n",
       "    .dataframe tbody tr th:only-of-type {\n",
       "        vertical-align: middle;\n",
       "    }\n",
       "\n",
       "    .dataframe tbody tr th {\n",
       "        vertical-align: top;\n",
       "    }\n",
       "\n",
       "    .dataframe thead th {\n",
       "        text-align: right;\n",
       "    }\n",
       "</style>\n",
       "<table border=\"1\" class=\"dataframe\">\n",
       "  <thead>\n",
       "    <tr style=\"text-align: right;\">\n",
       "      <th></th>\n",
       "      <th>mergeid</th>\n",
       "      <th>genres</th>\n",
       "      <th>averagerating</th>\n",
       "      <th>production_budget</th>\n",
       "      <th>domestic_gross</th>\n",
       "      <th>worldwide_gross</th>\n",
       "      <th>one</th>\n",
       "      <th>two</th>\n",
       "      <th>three</th>\n",
       "    </tr>\n",
       "  </thead>\n",
       "  <tbody>\n",
       "    <tr>\n",
       "      <th>107</th>\n",
       "      <td>2017abadmomschristmas</td>\n",
       "      <td>Adventure,Comedy</td>\n",
       "      <td>5.5</td>\n",
       "      <td>28000000</td>\n",
       "      <td>72110659</td>\n",
       "      <td>127710550</td>\n",
       "      <td>Adventure</td>\n",
       "      <td>Comedy</td>\n",
       "      <td>None</td>\n",
       "    </tr>\n",
       "    <tr>\n",
       "      <th>200</th>\n",
       "      <td>2017aghoststory</td>\n",
       "      <td>Drama,Fantasy,Romance</td>\n",
       "      <td>6.8</td>\n",
       "      <td>100000</td>\n",
       "      <td>1594798</td>\n",
       "      <td>2769782</td>\n",
       "      <td>Drama</td>\n",
       "      <td>Fantasy</td>\n",
       "      <td>Romance</td>\n",
       "    </tr>\n",
       "    <tr>\n",
       "      <th>228</th>\n",
       "      <td>2017aliencovenant</td>\n",
       "      <td>Horror,Sci-Fi,Thriller</td>\n",
       "      <td>6.4</td>\n",
       "      <td>97000000</td>\n",
       "      <td>74262031</td>\n",
       "      <td>238521247</td>\n",
       "      <td>Horror</td>\n",
       "      <td>Sci-Fi</td>\n",
       "      <td>Thriller</td>\n",
       "    </tr>\n",
       "    <tr>\n",
       "      <th>248</th>\n",
       "      <td>2017alleyezonme</td>\n",
       "      <td>Biography,Drama,Music</td>\n",
       "      <td>5.8</td>\n",
       "      <td>45000000</td>\n",
       "      <td>44922302</td>\n",
       "      <td>54876855</td>\n",
       "      <td>Biography</td>\n",
       "      <td>Drama</td>\n",
       "      <td>Music</td>\n",
       "    </tr>\n",
       "    <tr>\n",
       "      <th>257</th>\n",
       "      <td>2017allsaints</td>\n",
       "      <td>Drama</td>\n",
       "      <td>6.0</td>\n",
       "      <td>2000000</td>\n",
       "      <td>5802208</td>\n",
       "      <td>5941994</td>\n",
       "      <td>Drama</td>\n",
       "      <td>None</td>\n",
       "      <td>None</td>\n",
       "    </tr>\n",
       "    <tr>\n",
       "      <th>...</th>\n",
       "      <td>...</td>\n",
       "      <td>...</td>\n",
       "      <td>...</td>\n",
       "      <td>...</td>\n",
       "      <td>...</td>\n",
       "      <td>...</td>\n",
       "      <td>...</td>\n",
       "      <td>...</td>\n",
       "      <td>...</td>\n",
       "    </tr>\n",
       "    <tr>\n",
       "      <th>10270</th>\n",
       "      <td>2019uglydolls</td>\n",
       "      <td>Adventure,Animation,Comedy</td>\n",
       "      <td>4.5</td>\n",
       "      <td>45000000</td>\n",
       "      <td>19894664</td>\n",
       "      <td>24644664</td>\n",
       "      <td>Adventure</td>\n",
       "      <td>Animation</td>\n",
       "      <td>Comedy</td>\n",
       "    </tr>\n",
       "    <tr>\n",
       "      <th>10280</th>\n",
       "      <td>2019unplanned</td>\n",
       "      <td>Biography,Drama</td>\n",
       "      <td>6.3</td>\n",
       "      <td>6000000</td>\n",
       "      <td>18107621</td>\n",
       "      <td>18107621</td>\n",
       "      <td>Biography</td>\n",
       "      <td>Drama</td>\n",
       "      <td>None</td>\n",
       "    </tr>\n",
       "    <tr>\n",
       "      <th>10298</th>\n",
       "      <td>2019us</td>\n",
       "      <td>Horror,Mystery,Thriller</td>\n",
       "      <td>7.1</td>\n",
       "      <td>20000000</td>\n",
       "      <td>175006930</td>\n",
       "      <td>254210310</td>\n",
       "      <td>Horror</td>\n",
       "      <td>Mystery</td>\n",
       "      <td>Thriller</td>\n",
       "    </tr>\n",
       "    <tr>\n",
       "      <th>10303</th>\n",
       "      <td>2019velvetbuzzsaw</td>\n",
       "      <td>Horror,Mystery,Thriller</td>\n",
       "      <td>5.7</td>\n",
       "      <td>21000000</td>\n",
       "      <td>0</td>\n",
       "      <td>0</td>\n",
       "      <td>Horror</td>\n",
       "      <td>Mystery</td>\n",
       "      <td>Thriller</td>\n",
       "    </tr>\n",
       "    <tr>\n",
       "      <th>10329</th>\n",
       "      <td>2019whatmenwant</td>\n",
       "      <td>Comedy,Fantasy,Romance</td>\n",
       "      <td>4.9</td>\n",
       "      <td>20000000</td>\n",
       "      <td>54611903</td>\n",
       "      <td>69911903</td>\n",
       "      <td>Comedy</td>\n",
       "      <td>Fantasy</td>\n",
       "      <td>Romance</td>\n",
       "    </tr>\n",
       "  </tbody>\n",
       "</table>\n",
       "<p>218 rows × 9 columns</p>\n",
       "</div>"
      ],
      "text/plain": [
       "                     mergeid                      genres  averagerating  \\\n",
       "107    2017abadmomschristmas            Adventure,Comedy            5.5   \n",
       "200          2017aghoststory       Drama,Fantasy,Romance            6.8   \n",
       "228        2017aliencovenant      Horror,Sci-Fi,Thriller            6.4   \n",
       "248          2017alleyezonme       Biography,Drama,Music            5.8   \n",
       "257            2017allsaints                       Drama            6.0   \n",
       "...                      ...                         ...            ...   \n",
       "10270          2019uglydolls  Adventure,Animation,Comedy            4.5   \n",
       "10280          2019unplanned             Biography,Drama            6.3   \n",
       "10298                 2019us     Horror,Mystery,Thriller            7.1   \n",
       "10303      2019velvetbuzzsaw     Horror,Mystery,Thriller            5.7   \n",
       "10329        2019whatmenwant      Comedy,Fantasy,Romance            4.9   \n",
       "\n",
       "      production_budget domestic_gross worldwide_gross        one        two  \\\n",
       "107            28000000       72110659       127710550  Adventure     Comedy   \n",
       "200              100000        1594798         2769782      Drama    Fantasy   \n",
       "228            97000000       74262031       238521247     Horror     Sci-Fi   \n",
       "248            45000000       44922302        54876855  Biography      Drama   \n",
       "257             2000000        5802208         5941994      Drama       None   \n",
       "...                 ...            ...             ...        ...        ...   \n",
       "10270          45000000       19894664        24644664  Adventure  Animation   \n",
       "10280           6000000       18107621        18107621  Biography      Drama   \n",
       "10298          20000000      175006930       254210310     Horror    Mystery   \n",
       "10303          21000000              0               0     Horror    Mystery   \n",
       "10329          20000000       54611903        69911903     Comedy    Fantasy   \n",
       "\n",
       "          three  \n",
       "107        None  \n",
       "200     Romance  \n",
       "228    Thriller  \n",
       "248       Music  \n",
       "257        None  \n",
       "...         ...  \n",
       "10270    Comedy  \n",
       "10280      None  \n",
       "10298  Thriller  \n",
       "10303  Thriller  \n",
       "10329   Romance  \n",
       "\n",
       "[218 rows x 9 columns]"
      ]
     },
     "execution_count": 111,
     "metadata": {},
     "output_type": "execute_result"
    }
   ],
   "source": [
    "money_merge"
   ]
  },
  {
   "cell_type": "code",
   "execution_count": 112,
   "metadata": {},
   "outputs": [],
   "source": [
    "m1 = money_merge[['mergeid', 'production_budget','domestic_gross', 'worldwide_gross', 'one']].rename(columns = {'one':'genre'})\n",
    "m2 = money_merge[['mergeid', 'production_budget','domestic_gross', 'worldwide_gross', 'two']].rename(columns = {'two':'genre'})\n",
    "m3 = money_merge[['mergeid', 'production_budget','domestic_gross', 'worldwide_gross', 'three']].rename(columns = {'three':'genre'})"
   ]
  },
  {
   "cell_type": "code",
   "execution_count": 113,
   "metadata": {},
   "outputs": [],
   "source": [
    "mlist = [m1, m2, m3]\n",
    "genres_and_money = pd.concat(mlist)"
   ]
  },
  {
   "cell_type": "code",
   "execution_count": 114,
   "metadata": {},
   "outputs": [
    {
     "name": "stdout",
     "output_type": "stream",
     "text": [
      "<class 'pandas.core.frame.DataFrame'>\n",
      "Int64Index: 654 entries, 107 to 10329\n",
      "Data columns (total 5 columns):\n",
      " #   Column             Non-Null Count  Dtype \n",
      "---  ------             --------------  ----- \n",
      " 0   mergeid            654 non-null    object\n",
      " 1   production_budget  654 non-null    int32 \n",
      " 2   domestic_gross     654 non-null    int32 \n",
      " 3   worldwide_gross    654 non-null    int32 \n",
      " 4   genre              578 non-null    object\n",
      "dtypes: int32(3), object(2)\n",
      "memory usage: 23.0+ KB\n"
     ]
    }
   ],
   "source": [
    "#converting to integers\n",
    "genres_and_money = genres_and_money.astype({'production_budget':'int', 'domestic_gross': 'int', 'worldwide_gross':'int'})\n",
    "genres_and_money.info()"
   ]
  },
  {
   "cell_type": "code",
   "execution_count": 115,
   "metadata": {},
   "outputs": [
    {
     "data": {
      "text/plain": [
       "<seaborn.axisgrid.FacetGrid at 0x2e9591c5430>"
      ]
     },
     "execution_count": 115,
     "metadata": {},
     "output_type": "execute_result"
    },
    {
     "data": {
      "image/png": "[encoded data removed]",
      "text/plain": [
       "<Figure size 720x360 with 1 Axes>"
      ]
     },
     "metadata": {},
     "output_type": "display_data"
    }
   ],
   "source": [
    "production = genres_and_money[['production_budget', 'genre']]\n",
    "sns.set_theme(style = \"ticks\", color_codes = True)\n",
    "sns.catplot(x='genre', y='production_budget', data = production, aspect=20/10)"
   ]
  },
  {
   "cell_type": "code",
   "execution_count": 116,
   "metadata": {},
   "outputs": [],
   "source": [
    "#can we make a pivot table where each genre is a column and the budget info is below? "
   ]
  },
  {
   "cell_type": "markdown",
   "metadata": {},
   "source": [
    "# Is there a correlation between production budget and rating? "
   ]
  },
  {
   "cell_type": "code",
   "execution_count": 117,
   "metadata": {},
   "outputs": [],
   "source": [
    "#create dataframe\n",
    "rating_and_budget = money_merge[['averagerating', 'production_budget']]"
   ]
  },
  {
   "cell_type": "code",
   "execution_count": 118,
   "metadata": {},
   "outputs": [
    {
     "name": "stderr",
     "output_type": "stream",
     "text": [
      "<ipython-input-118-8e18530e1496>:2: SettingWithCopyWarning: \n",
      "A value is trying to be set on a copy of a slice from a DataFrame\n",
      "\n",
      "See the caveats in the documentation: https://pandas.pydata.org/pandas-docs/stable/user_guide/indexing.html#returning-a-view-versus-a-copy\n",
      "  rating_and_budget.dropna(subset =['averagerating'], inplace = True)\n"
     ]
    }
   ],
   "source": [
    "#drop nulls\n",
    "rating_and_budget.dropna(subset =['averagerating'], inplace = True)"
   ]
  },
  {
   "cell_type": "code",
   "execution_count": 119,
   "metadata": {},
   "outputs": [
    {
     "name": "stdout",
     "output_type": "stream",
     "text": [
      "<class 'pandas.core.frame.DataFrame'>\n",
      "Int64Index: 212 entries, 107 to 10329\n",
      "Data columns (total 2 columns):\n",
      " #   Column             Non-Null Count  Dtype  \n",
      "---  ------             --------------  -----  \n",
      " 0   averagerating      212 non-null    float64\n",
      " 1   production_budget  212 non-null    object \n",
      "dtypes: float64(1), object(1)\n",
      "memory usage: 5.0+ KB\n"
     ]
    }
   ],
   "source": [
    "rating_and_budget.info()"
   ]
  },
  {
   "cell_type": "code",
   "execution_count": 120,
   "metadata": {},
   "outputs": [
    {
     "name": "stderr",
     "output_type": "stream",
     "text": [
      "<ipython-input-120-243d963dbabc>:2: SettingWithCopyWarning: \n",
      "A value is trying to be set on a copy of a slice from a DataFrame.\n",
      "Try using .loc[row_indexer,col_indexer] = value instead\n",
      "\n",
      "See the caveats in the documentation: https://pandas.pydata.org/pandas-docs/stable/user_guide/indexing.html#returning-a-view-versus-a-copy\n",
      "  rating_and_budget['averagerating'] = rating_and_budget['averagerating'].astype(float)\n"
     ]
    }
   ],
   "source": [
    "#strings to numbers\n",
    "rating_and_budget['averagerating'] = rating_and_budget['averagerating'].astype(float)"
   ]
  },
  {
   "cell_type": "code",
   "execution_count": 121,
   "metadata": {},
   "outputs": [
    {
     "name": "stderr",
     "output_type": "stream",
     "text": [
      "<ipython-input-121-7abfc61dc1db>:1: SettingWithCopyWarning: \n",
      "A value is trying to be set on a copy of a slice from a DataFrame.\n",
      "Try using .loc[row_indexer,col_indexer] = value instead\n",
      "\n",
      "See the caveats in the documentation: https://pandas.pydata.org/pandas-docs/stable/user_guide/indexing.html#returning-a-view-versus-a-copy\n",
      "  rating_and_budget['production_budget'] = rating_and_budget['production_budget'].astype(int)\n"
     ]
    }
   ],
   "source": [
    "rating_and_budget['production_budget'] = rating_and_budget['production_budget'].astype(int)"
   ]
  },
  {
   "cell_type": "code",
   "execution_count": 122,
   "metadata": {},
   "outputs": [
    {
     "data": {
      "text/html": [
       "<div>\n",
       "<style scoped>\n",
       "    .dataframe tbody tr th:only-of-type {\n",
       "        vertical-align: middle;\n",
       "    }\n",
       "\n",
       "    .dataframe tbody tr th {\n",
       "        vertical-align: top;\n",
       "    }\n",
       "\n",
       "    .dataframe thead th {\n",
       "        text-align: right;\n",
       "    }\n",
       "</style>\n",
       "<table border=\"1\" class=\"dataframe\">\n",
       "  <thead>\n",
       "    <tr style=\"text-align: right;\">\n",
       "      <th></th>\n",
       "      <th>averagerating</th>\n",
       "      <th>production_budget</th>\n",
       "    </tr>\n",
       "  </thead>\n",
       "  <tbody>\n",
       "    <tr>\n",
       "      <th>averagerating</th>\n",
       "      <td>1.000000</td>\n",
       "      <td>0.176844</td>\n",
       "    </tr>\n",
       "    <tr>\n",
       "      <th>production_budget</th>\n",
       "      <td>0.176844</td>\n",
       "      <td>1.000000</td>\n",
       "    </tr>\n",
       "  </tbody>\n",
       "</table>\n",
       "</div>"
      ],
      "text/plain": [
       "                   averagerating  production_budget\n",
       "averagerating           1.000000           0.176844\n",
       "production_budget       0.176844           1.000000"
      ]
     },
     "execution_count": 122,
     "metadata": {},
     "output_type": "execute_result"
    }
   ],
   "source": [
    "#correlation between averagerating and production budget is weak\n",
    "rating_and_budget.corr()"
   ]
  },
  {
   "cell_type": "code",
   "execution_count": 123,
   "metadata": {},
   "outputs": [
    {
     "data": {
      "text/plain": [
       "<matplotlib.collections.PathCollection at 0x2e97a653dc0>"
      ]
     },
     "execution_count": 123,
     "metadata": {},
     "output_type": "execute_result"
    },
    {
     "data": {
      "image/png": "[encoded data removed]",
      "text/plain": [
       "<Figure size 432x288 with 1 Axes>"
      ]
     },
     "metadata": {},
     "output_type": "display_data"
    }
   ],
   "source": [
    "x= rating_and_budget['averagerating']\n",
    "y= rating_and_budget['production_budget']\n",
    "\n",
    "fig, ax = plt.subplots()\n",
    "ax.scatter(x,y)"
   ]
  },
  {
   "cell_type": "markdown",
   "metadata": {},
   "source": [
    "# "
   ]
  }
 ],
 "metadata": {
  "kernelspec": {
   "display_name": "Python 3",
   "language": "python",
   "name": "python3"
  },
  "language_info": {
   "codemirror_mode": {
    "name": "ipython",
    "version": 3
   },
   "file_extension": ".py",
   "mimetype": "text/x-python",
   "name": "python",
   "nbconvert_exporter": "python",
   "pygments_lexer": "ipython3",
   "version": "3.8.5"
  }
 },
 "nbformat": 4,
 "nbformat_minor": 4
}
